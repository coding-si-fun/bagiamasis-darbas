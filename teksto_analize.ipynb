{
 "cells": [
  {
   "cell_type": "markdown",
   "metadata": {},
   "source": [
    "# Žinučių analizė"
   ]
  },
  {
   "cell_type": "markdown",
   "metadata": {},
   "source": [
    "## Tikslai\n",
    "1. Įsikeliame duomenis\n",
    "2. Surandame trumpiausia ir ilgiausias žinutes."
   ]
  },
  {
   "cell_type": "code",
   "execution_count": 1,
   "metadata": {},
   "outputs": [],
   "source": [
    "import pandas as pd\n",
    "# !pip3 install langdetect\n"
   ]
  },
  {
   "cell_type": "code",
   "execution_count": 2,
   "metadata": {},
   "outputs": [
    {
     "data": {
      "text/html": [
       "<div>\n",
       "<style scoped>\n",
       "    .dataframe tbody tr th:only-of-type {\n",
       "        vertical-align: middle;\n",
       "    }\n",
       "\n",
       "    .dataframe tbody tr th {\n",
       "        vertical-align: top;\n",
       "    }\n",
       "\n",
       "    .dataframe thead th {\n",
       "        text-align: right;\n",
       "    }\n",
       "</style>\n",
       "<table border=\"1\" class=\"dataframe\">\n",
       "  <thead>\n",
       "    <tr style=\"text-align: right;\">\n",
       "      <th></th>\n",
       "      <th>index</th>\n",
       "      <th>Sender</th>\n",
       "      <th>TimeStamp</th>\n",
       "      <th>Message</th>\n",
       "      <th>Kalba</th>\n",
       "    </tr>\n",
       "  </thead>\n",
       "  <tbody>\n",
       "    <tr>\n",
       "      <th>0</th>\n",
       "      <td>0</td>\n",
       "      <td>Rimantas Preiksas</td>\n",
       "      <td>2017-10-03 18:55:54.249</td>\n",
       "      <td>Dabar esate prisijungę prie „Messenger“</td>\n",
       "      <td>de</td>\n",
       "    </tr>\n",
       "    <tr>\n",
       "      <th>1</th>\n",
       "      <td>1</td>\n",
       "      <td>Sigitas Motuzas</td>\n",
       "      <td>2017-10-03 18:57:42.023</td>\n",
       "      <td>Saliut Rimi😉</td>\n",
       "      <td>et</td>\n",
       "    </tr>\n",
       "    <tr>\n",
       "      <th>2</th>\n",
       "      <td>2</td>\n",
       "      <td>Sigitas Motuzas</td>\n",
       "      <td>2017-10-03 18:57:53.243</td>\n",
       "      <td>Kaip besilaikai?</td>\n",
       "      <td>id</td>\n",
       "    </tr>\n",
       "    <tr>\n",
       "      <th>3</th>\n",
       "      <td>3</td>\n",
       "      <td>Rimantas Preiksas</td>\n",
       "      <td>2017-10-03 21:14:25.318</td>\n",
       "      <td>Normaliai, o kaip tau?</td>\n",
       "      <td>lt</td>\n",
       "    </tr>\n",
       "    <tr>\n",
       "      <th>4</th>\n",
       "      <td>4</td>\n",
       "      <td>Rimantas Preiksas</td>\n",
       "      <td>2017-10-03 21:14:56.407</td>\n",
       "      <td>Jūs pamojavote Mantas!</td>\n",
       "      <td>lt</td>\n",
       "    </tr>\n",
       "    <tr>\n",
       "      <th>...</th>\n",
       "      <td>...</td>\n",
       "      <td>...</td>\n",
       "      <td>...</td>\n",
       "      <td>...</td>\n",
       "      <td>...</td>\n",
       "    </tr>\n",
       "    <tr>\n",
       "      <th>37724</th>\n",
       "      <td>37724</td>\n",
       "      <td>Rimantas Preiksas</td>\n",
       "      <td>2024-08-19 18:18:22.842</td>\n",
       "      <td>AČIŪ :)</td>\n",
       "      <td>tl</td>\n",
       "    </tr>\n",
       "    <tr>\n",
       "      <th>37725</th>\n",
       "      <td>37725</td>\n",
       "      <td>Rimantas Rimantas</td>\n",
       "      <td>2024-08-19 18:18:25.915</td>\n",
       "      <td>NaN</td>\n",
       "      <td>unknown</td>\n",
       "    </tr>\n",
       "    <tr>\n",
       "      <th>37726</th>\n",
       "      <td>37726</td>\n",
       "      <td>Hugo Lopes</td>\n",
       "      <td>2024-08-29 21:56:04.112</td>\n",
       "      <td>Hi Rimantas</td>\n",
       "      <td>id</td>\n",
       "    </tr>\n",
       "    <tr>\n",
       "      <th>37727</th>\n",
       "      <td>37727</td>\n",
       "      <td>Hugo Lopes</td>\n",
       "      <td>2024-08-29 21:56:30.046</td>\n",
       "      <td>Where are you working now ?</td>\n",
       "      <td>en</td>\n",
       "    </tr>\n",
       "    <tr>\n",
       "      <th>37728</th>\n",
       "      <td>37728</td>\n",
       "      <td>Raimonda Joksaite</td>\n",
       "      <td>2024-09-01 16:41:26.517</td>\n",
       "      <td>NaN</td>\n",
       "      <td>unknown</td>\n",
       "    </tr>\n",
       "  </tbody>\n",
       "</table>\n",
       "<p>37729 rows × 5 columns</p>\n",
       "</div>"
      ],
      "text/plain": [
       "       index             Sender                TimeStamp  \\\n",
       "0          0  Rimantas Preiksas  2017-10-03 18:55:54.249   \n",
       "1          1    Sigitas Motuzas  2017-10-03 18:57:42.023   \n",
       "2          2    Sigitas Motuzas  2017-10-03 18:57:53.243   \n",
       "3          3  Rimantas Preiksas  2017-10-03 21:14:25.318   \n",
       "4          4  Rimantas Preiksas  2017-10-03 21:14:56.407   \n",
       "...      ...                ...                      ...   \n",
       "37724  37724  Rimantas Preiksas  2024-08-19 18:18:22.842   \n",
       "37725  37725  Rimantas Rimantas  2024-08-19 18:18:25.915   \n",
       "37726  37726         Hugo Lopes  2024-08-29 21:56:04.112   \n",
       "37727  37727         Hugo Lopes  2024-08-29 21:56:30.046   \n",
       "37728  37728  Raimonda Joksaite  2024-09-01 16:41:26.517   \n",
       "\n",
       "                                       Message    Kalba  \n",
       "0      Dabar esate prisijungę prie „Messenger“       de  \n",
       "1                                 Saliut Rimi😉       et  \n",
       "2                             Kaip besilaikai?       id  \n",
       "3                       Normaliai, o kaip tau?       lt  \n",
       "4                       Jūs pamojavote Mantas!       lt  \n",
       "...                                        ...      ...  \n",
       "37724                                  AČIŪ :)       tl  \n",
       "37725                                      NaN  unknown  \n",
       "37726                              Hi Rimantas       id  \n",
       "37727              Where are you working now ?       en  \n",
       "37728                                      NaN  unknown  \n",
       "\n",
       "[37729 rows x 5 columns]"
      ]
     },
     "execution_count": 2,
     "metadata": {},
     "output_type": "execute_result"
    }
   ],
   "source": [
    "df=pd.read_csv('teksto_analiziai_su_kalba.csv')\n",
    "table_sorted=df\n",
    "\n",
    "# for i in range(len(table_sorted)):\n",
    "#     table_sorted['Indeksas']=i\n",
    "\n",
    "table_sorted.reset_index()\n"
   ]
  },
  {
   "cell_type": "code",
   "execution_count": 3,
   "metadata": {},
   "outputs": [],
   "source": [
    "# from langdetect import detect\n",
    "# def detect_language(message):\n",
    "#     try:\n",
    "#         return detect(message)\n",
    "#     except:\n",
    "#         return 'unknown'  # In case detection fails\n",
    "\n",
    "# # Apply the function to the 'Message' column and create a new 'Language' column\n",
    "# table_sorted=table_sorted.iloc[0:50]\n",
    "# table_sorted['Kalba'] = table_sorted['Message'].apply(detect_language)\n",
    "# table_sorted"
   ]
  },
  {
   "cell_type": "markdown",
   "metadata": {},
   "source": [
    "**20 ilgiausiu žinučių**"
   ]
  },
  {
   "cell_type": "code",
   "execution_count": 4,
   "metadata": {},
   "outputs": [],
   "source": [
    "#Priskiaraime nauja stulpelį, su visų žinučių ilgiais\n",
    "table_sorted['Message_Length'] = table_sorted['Message'].str.len()\n"
   ]
  },
  {
   "cell_type": "markdown",
   "metadata": {},
   "source": [
    "#### Paskiriamas kintamasis kitiems sektoriams naudoti, ši lentelė turi [Sender,TimeStamp,message,Kalba,Message_Length] ir yra neišrikiuota."
   ]
  },
  {
   "cell_type": "code",
   "execution_count": 5,
   "metadata": {},
   "outputs": [],
   "source": [
    "export_df=table_sorted\n",
    "export_df.to_csv(\"for_linear_regresion_data_set.csv\")"
   ]
  },
  {
   "cell_type": "code",
   "execution_count": 6,
   "metadata": {},
   "outputs": [
    {
     "data": {
      "text/html": [
       "<div>\n",
       "<style scoped>\n",
       "    .dataframe tbody tr th:only-of-type {\n",
       "        vertical-align: middle;\n",
       "    }\n",
       "\n",
       "    .dataframe tbody tr th {\n",
       "        vertical-align: top;\n",
       "    }\n",
       "\n",
       "    .dataframe thead th {\n",
       "        text-align: right;\n",
       "    }\n",
       "</style>\n",
       "<table border=\"1\" class=\"dataframe\">\n",
       "  <thead>\n",
       "    <tr style=\"text-align: right;\">\n",
       "      <th></th>\n",
       "      <th>Sender</th>\n",
       "      <th>TimeStamp</th>\n",
       "      <th>Message</th>\n",
       "      <th>Kalba</th>\n",
       "      <th>Message_Length</th>\n",
       "    </tr>\n",
       "  </thead>\n",
       "  <tbody>\n",
       "    <tr>\n",
       "      <th>10701</th>\n",
       "      <td>Rimantas Preiksas</td>\n",
       "      <td>2020-10-01 12:22:45.327</td>\n",
       "      <td>#!/usr/bin/python\\n# -*- coding: utf-8 -*-\\nim...</td>\n",
       "      <td>en</td>\n",
       "      <td>7481.0</td>\n",
       "    </tr>\n",
       "    <tr>\n",
       "      <th>25548</th>\n",
       "      <td>Italas Italijoje</td>\n",
       "      <td>2022-08-16 08:55:08.101</td>\n",
       "      <td>Rimantas\\n1985-08-19\\n40% yra Kšatrij - tai va...</td>\n",
       "      <td>lt</td>\n",
       "      <td>6994.0</td>\n",
       "    </tr>\n",
       "    <tr>\n",
       "      <th>28078</th>\n",
       "      <td>Italas Italijoje</td>\n",
       "      <td>2023-01-05 10:38:00.872</td>\n",
       "      <td>Reda 2\\n1984-02-26\\n\\n            Likimo Vyšnu...</td>\n",
       "      <td>lt</td>\n",
       "      <td>6185.0</td>\n",
       "    </tr>\n",
       "    <tr>\n",
       "      <th>15455</th>\n",
       "      <td>Laurynas Antanauskas</td>\n",
       "      <td>2021-03-08 11:14:29.213</td>\n",
       "      <td>Biologai teigia, kad mūsų mentalinį ir emocinį...</td>\n",
       "      <td>lt</td>\n",
       "      <td>4168.0</td>\n",
       "    </tr>\n",
       "    <tr>\n",
       "      <th>8232</th>\n",
       "      <td>Laurynas Antanauskas</td>\n",
       "      <td>2020-07-03 07:07:15.077</td>\n",
       "      <td>Kai žmonės žiūri reklamą, pirmiausia pasikeiči...</td>\n",
       "      <td>lt</td>\n",
       "      <td>3798.0</td>\n",
       "    </tr>\n",
       "    <tr>\n",
       "      <th>4100</th>\n",
       "      <td>Rimantas Preiksas</td>\n",
       "      <td>2019-11-10 19:15:55.943</td>\n",
       "      <td>Why do we feel old, why have we got a sense of...</td>\n",
       "      <td>en</td>\n",
       "      <td>3153.0</td>\n",
       "    </tr>\n",
       "    <tr>\n",
       "      <th>3992</th>\n",
       "      <td>Rimantas Preiksas</td>\n",
       "      <td>2019-10-29 15:06:15.113</td>\n",
       "      <td>Na as dar karta perskaiciau tavo zinute kazkai...</td>\n",
       "      <td>lt</td>\n",
       "      <td>3099.0</td>\n",
       "    </tr>\n",
       "    <tr>\n",
       "      <th>2447</th>\n",
       "      <td>Laurynas Antanauskas</td>\n",
       "      <td>2019-05-06 08:27:16.965</td>\n",
       "      <td>Pyktis, baimė, nerimas, jie yra pas kiekviena ...</td>\n",
       "      <td>lt</td>\n",
       "      <td>2694.0</td>\n",
       "    </tr>\n",
       "    <tr>\n",
       "      <th>24325</th>\n",
       "      <td>Rimantas Preiksas</td>\n",
       "      <td>2022-05-15 15:19:56.928</td>\n",
       "      <td>Kaip ir kalbėjome perskaičiau tavo darbą, viso...</td>\n",
       "      <td>lt</td>\n",
       "      <td>2455.0</td>\n",
       "    </tr>\n",
       "    <tr>\n",
       "      <th>3994</th>\n",
       "      <td>KamilÄ AntanauskienÄ</td>\n",
       "      <td>2019-10-29 17:02:19.761</td>\n",
       "      <td>aš nenorėjau tiksliai vardinti įvykių, galbūt ...</td>\n",
       "      <td>lt</td>\n",
       "      <td>2104.0</td>\n",
       "    </tr>\n",
       "    <tr>\n",
       "      <th>11550</th>\n",
       "      <td>Laurynas Antanauskas</td>\n",
       "      <td>2020-11-12 10:03:37.572</td>\n",
       "      <td>- Mylėkit savo priešus - mokė Jėzus.\\nŠio moky...</td>\n",
       "      <td>lt</td>\n",
       "      <td>2045.0</td>\n",
       "    </tr>\n",
       "    <tr>\n",
       "      <th>19432</th>\n",
       "      <td>Roberta RÄÄkuvienÄ</td>\n",
       "      <td>2021-11-07 10:12:48.745</td>\n",
       "      <td>Ekspozicinės prekės komplektaciją įeina : Įkro...</td>\n",
       "      <td>lt</td>\n",
       "      <td>1992.0</td>\n",
       "    </tr>\n",
       "    <tr>\n",
       "      <th>3988</th>\n",
       "      <td>KamilÄ AntanauskienÄ</td>\n",
       "      <td>2019-10-29 10:25:09.300</td>\n",
       "      <td>Sveikas, Rimantai. Kadangi žinau, jog jūs su L...</td>\n",
       "      <td>lt</td>\n",
       "      <td>1962.0</td>\n",
       "    </tr>\n",
       "    <tr>\n",
       "      <th>15610</th>\n",
       "      <td>Laurynas Antanauskas</td>\n",
       "      <td>2021-03-14 10:23:52.318</td>\n",
       "      <td>Po šių svarstymų galime pereiti prie sudėtinge...</td>\n",
       "      <td>lt</td>\n",
       "      <td>1876.0</td>\n",
       "    </tr>\n",
       "    <tr>\n",
       "      <th>5100</th>\n",
       "      <td>Laurynas Antanauskas</td>\n",
       "      <td>2020-01-31 14:31:52.597</td>\n",
       "      <td>Mintis + emocija (Meilė ar Baimė) =Jausmai /Įs...</td>\n",
       "      <td>lt</td>\n",
       "      <td>1865.0</td>\n",
       "    </tr>\n",
       "    <tr>\n",
       "      <th>11742</th>\n",
       "      <td>Laurynas Antanauskas</td>\n",
       "      <td>2020-11-30 05:18:19.302</td>\n",
       "      <td>“Solitude is dangerous. It's very addictive. I...</td>\n",
       "      <td>en</td>\n",
       "      <td>1753.0</td>\n",
       "    </tr>\n",
       "    <tr>\n",
       "      <th>27202</th>\n",
       "      <td>Rimantas Preiksas</td>\n",
       "      <td>2022-12-07 16:51:25.528</td>\n",
       "      <td>Esu debiutuojanti politikė, naujas politinis v...</td>\n",
       "      <td>lt</td>\n",
       "      <td>1716.0</td>\n",
       "    </tr>\n",
       "    <tr>\n",
       "      <th>25370</th>\n",
       "      <td>Rimantas Preiksas</td>\n",
       "      <td>2022-07-28 18:24:28.160</td>\n",
       "      <td>Na ir užsplėskėte gerbiamas Jonas Masiukas, še...</td>\n",
       "      <td>lt</td>\n",
       "      <td>1595.0</td>\n",
       "    </tr>\n",
       "    <tr>\n",
       "      <th>5997</th>\n",
       "      <td>Laurynas Antanauskas</td>\n",
       "      <td>2020-03-25 09:54:07.125</td>\n",
       "      <td>budistu šventyklose, visi mokinasi kvėpavimo t...</td>\n",
       "      <td>lt</td>\n",
       "      <td>1475.0</td>\n",
       "    </tr>\n",
       "    <tr>\n",
       "      <th>3996</th>\n",
       "      <td>Rimantas Preiksas</td>\n",
       "      <td>2019-10-29 17:35:42.463</td>\n",
       "      <td>Na as galiu suprasti, kad jautiesi atstumta ka...</td>\n",
       "      <td>lt</td>\n",
       "      <td>1414.0</td>\n",
       "    </tr>\n",
       "  </tbody>\n",
       "</table>\n",
       "</div>"
      ],
      "text/plain": [
       "                       Sender                TimeStamp  \\\n",
       "10701       Rimantas Preiksas  2020-10-01 12:22:45.327   \n",
       "25548        Italas Italijoje  2022-08-16 08:55:08.101   \n",
       "28078        Italas Italijoje  2023-01-05 10:38:00.872   \n",
       "15455    Laurynas Antanauskas  2021-03-08 11:14:29.213   \n",
       "8232     Laurynas Antanauskas  2020-07-03 07:07:15.077   \n",
       "4100        Rimantas Preiksas  2019-11-10 19:15:55.943   \n",
       "3992        Rimantas Preiksas  2019-10-29 15:06:15.113   \n",
       "2447     Laurynas Antanauskas  2019-05-06 08:27:16.965   \n",
       "24325       Rimantas Preiksas  2022-05-15 15:19:56.928   \n",
       "3994   KamilÄ AntanauskienÄ  2019-10-29 17:02:19.761   \n",
       "11550    Laurynas Antanauskas  2020-11-12 10:03:37.572   \n",
       "19432   Roberta RÄÄkuvienÄ  2021-11-07 10:12:48.745   \n",
       "3988   KamilÄ AntanauskienÄ  2019-10-29 10:25:09.300   \n",
       "15610    Laurynas Antanauskas  2021-03-14 10:23:52.318   \n",
       "5100     Laurynas Antanauskas  2020-01-31 14:31:52.597   \n",
       "11742    Laurynas Antanauskas  2020-11-30 05:18:19.302   \n",
       "27202       Rimantas Preiksas  2022-12-07 16:51:25.528   \n",
       "25370       Rimantas Preiksas  2022-07-28 18:24:28.160   \n",
       "5997     Laurynas Antanauskas  2020-03-25 09:54:07.125   \n",
       "3996        Rimantas Preiksas  2019-10-29 17:35:42.463   \n",
       "\n",
       "                                                 Message Kalba  Message_Length  \n",
       "10701  #!/usr/bin/python\\n# -*- coding: utf-8 -*-\\nim...    en          7481.0  \n",
       "25548  Rimantas\\n1985-08-19\\n40% yra Kšatrij - tai va...    lt          6994.0  \n",
       "28078  Reda 2\\n1984-02-26\\n\\n            Likimo Vyšnu...    lt          6185.0  \n",
       "15455  Biologai teigia, kad mūsų mentalinį ir emocinį...    lt          4168.0  \n",
       "8232   Kai žmonės žiūri reklamą, pirmiausia pasikeiči...    lt          3798.0  \n",
       "4100   Why do we feel old, why have we got a sense of...    en          3153.0  \n",
       "3992   Na as dar karta perskaiciau tavo zinute kazkai...    lt          3099.0  \n",
       "2447   Pyktis, baimė, nerimas, jie yra pas kiekviena ...    lt          2694.0  \n",
       "24325  Kaip ir kalbėjome perskaičiau tavo darbą, viso...    lt          2455.0  \n",
       "3994   aš nenorėjau tiksliai vardinti įvykių, galbūt ...    lt          2104.0  \n",
       "11550  - Mylėkit savo priešus - mokė Jėzus.\\nŠio moky...    lt          2045.0  \n",
       "19432  Ekspozicinės prekės komplektaciją įeina : Įkro...    lt          1992.0  \n",
       "3988   Sveikas, Rimantai. Kadangi žinau, jog jūs su L...    lt          1962.0  \n",
       "15610  Po šių svarstymų galime pereiti prie sudėtinge...    lt          1876.0  \n",
       "5100   Mintis + emocija (Meilė ar Baimė) =Jausmai /Įs...    lt          1865.0  \n",
       "11742  “Solitude is dangerous. It's very addictive. I...    en          1753.0  \n",
       "27202  Esu debiutuojanti politikė, naujas politinis v...    lt          1716.0  \n",
       "25370  Na ir užsplėskėte gerbiamas Jonas Masiukas, še...    lt          1595.0  \n",
       "5997   budistu šventyklose, visi mokinasi kvėpavimo t...    lt          1475.0  \n",
       "3996   Na as galiu suprasti, kad jautiesi atstumta ka...    lt          1414.0  "
      ]
     },
     "execution_count": 6,
     "metadata": {},
     "output_type": "execute_result"
    }
   ],
   "source": [
    "\n",
    "#Išrikiuojame ir atvaizuojame\n",
    "ilgiausios_20=table_sorted.sort_values('Message_Length', ascending=False)\n",
    "ilgiausios_20.head(20)\n",
    "\n"
   ]
  },
  {
   "cell_type": "code",
   "execution_count": 7,
   "metadata": {},
   "outputs": [
    {
     "name": "stdout",
     "output_type": "stream",
     "text": [
      "Biologai teigia, kad mūsų mentalinį ir emocinį pasaulius valdo per milijonus metų susiformavę biocheminiai mechanizmai. Subjektyviąją gerovę, kaip ir kitas mūsų mentalines būsenas, lemia ne išoriniai kriterijai (atlyginimas, socialiniai santykiai, politinės teisės, meterialūs dalykai ir pan.) Didžiausią įtaką jai daro sudėtinga nervų, neuronų, sinapsių ir įvairių biocheminių medžiagų, kaip antai serotoninas, dopaminas ir oksitocinas, sistema. \n",
      "Niekas netampa laimingas laimėjęs loterijoje, nusipirkęs namą, gavęs aukštesnes pareigas ar net suradęs tikrą meilę. Žmonėms laimę teikia vienintelis dalykas - malonūs pojūčiai kūne. Asmuo, kuris ką tik laimėjo loterijoje šokinėja iš džiaugsmo ne dėl pinigų. Šitokią jo reakciją sužadina įvairūs hormonai, įsilieję į jo kraują, ir elektrinių signalų audra, kibirkščiuojanti tarp skirtingų smegenų dalių. \n",
      "Naujas namas, naujos pareigos, laimėjimas loterijoje ir pan. yra tik priežastis, kuri sukelia mums laimės pojūtį. \n",
      "Jeigu mes įpratome, kad brangūs daiktai atneša mums laimę, tai tik gavę jį mes sugebėsime sukelti šį biocheminį procesą, kurio metu išsiskirs laimės hormonas ir mes pasijusime laimingi. Jeigu mes nesugebėsime pasidžiaugti tuo ką turime šiuo metu, o lauksime kažko ateityje, tai mes gyvensime nelaiminga gyvenimą iki tol kol sulauksime to ko trokštame. Įsivaizduokime, kad laukiame namo, nes esama situacija mūsų netenkina, mes jaučiamės nelaimingi. Laukiame kelis metus, taip gyvendami nelaimingą gyvenimą, nes užuot įžvelgę gerų dalykų kuriuos turime šiuo metu, mes laukiame namo tikėdamiesi, kad tai atneš laimingą gyvenimą. Ateina diena, kai po daugelio nelaimingų metų pagaliau atsiranda galimybė ir įsigyjame namą, mus užplūsta didelė laimė. Organizme vyksta biocheminiai procesai, išsiskiria laimės hormonai, pagaliau laimingas gyvenimas! Tačiau kiek ilgai tai tęsis, kol vėl kažko kito neužsigeisime? Ar atperka kelių metų nelaimės į savaitės laimės? \n",
      "Čia tik vienas pavyzdys. Daugelis mūsų nuolat trokšta smulkių materialų daiktų ir užuot apsidžiaugę iki šiol nusipirktais daiktais, jie jaučia alki kitiems, nes laimės hormonai nebeišsiskiria anksčiau nusipirktiems. \n",
      "Galbūt apskritai nereikėtu statyti laimės ant materialių daiktų, nes tai labai laikina? \n",
      "Galbūt turėtume sustoti, apsižvalgyti kiek yra dalykų, kurie nieko nekainuoja ir teikia laimės? Kaip pavyzdžiui: laiko praleidimas su artimais žmonėmis, draugais, pasivaikščiojimas mieste, gamtoje, sportas, skaitymas ir pan. \n",
      "Taip mums reikia pinigų, materialių daiktų, bet nereikia statyti savo laimės ant jų.\n",
      " Mes pasmerkėme save nenatūraliam gyvenimui, kuriame negalime visiškai išreikšti įgimtų polinkių bei instinktų, dėl to toks gyvenimas nepajėgus patenkinti giliausių mūsų troškimų. Mūsų pasaulis pasidarė labiau mechaninis...\n",
      "Vaikystėje, kol dar neturėjom materialių daiktų, laimę mums teikė žaidimai su draugais, pasivaikščiojimai, laikas su šeima. Mes buvom laimingi šią akimirką, žaidėm ir džiaugėmės gyvenimu, kol mus nesupažindino su technologijomis. Nuo tada vis kažko laukiam, kad pasijusti laimingais. Taip Įpratinome savo organizmą patirti laimę. O anksčiau žaidimas kieme su draugais reiškė tą patį, kaip dabar nauja mašina. Tik skirtumas, kad žaidimas su draugais truko ilgai ir nieko nekainavo, o mašina tai nemažai pinigų kainuojantis daiktas, kuris atneša trumpą džiaugsmo akimirką.\n",
      "Apskritai sustokite, pagalvokime, pabandykite prisiminti ar nebuvome laimingesni iki tol, kol gyvenome paprasčiau ir netroškome brangių daiktų?\n",
      "Kada buvo ta gyvenimo akimirka, kai pradėjome trokšti materialių dalykų ir įpratinome savo organizmą taip išskirti laimės hormoną?\n",
      "Turime mokintis pasidžiaugti tuo kas nieko nekainuoja arba tuo ką jau turime. Užteks gyventi ateityje, nes juk būtent ten gyvename, kai trokštame kažko materialaus? Viskas ką mes turime tai yra ši akimirka, kuri jau baigėsi, kol aš rašiau ir Tu skaitei. Taigi kiek tokių akimirkų iššvaistėme kažko norėdami, vietoj to, kad ja pasidžiaugti?\n",
      "Ir aš dar karta pakartosiu- taip mums reikia materialių dalykų, taip šį visuomenė pastatyta, bet ne jie turėtu būti mūsų laimingo gyvenimo priežastimi. Viskas kas materialu - kinta. Tai reiškia ir mūsų laimė kinta.\n"
     ]
    }
   ],
   "source": [
    "print(table_sorted.iloc[15455]['Message'])"
   ]
  },
  {
   "cell_type": "markdown",
   "metadata": {},
   "source": [
    "**20 Trumpiausiu**"
   ]
  },
  {
   "cell_type": "code",
   "execution_count": 8,
   "metadata": {},
   "outputs": [
    {
     "data": {
      "text/html": [
       "<div>\n",
       "<style scoped>\n",
       "    .dataframe tbody tr th:only-of-type {\n",
       "        vertical-align: middle;\n",
       "    }\n",
       "\n",
       "    .dataframe tbody tr th {\n",
       "        vertical-align: top;\n",
       "    }\n",
       "\n",
       "    .dataframe thead th {\n",
       "        text-align: right;\n",
       "    }\n",
       "</style>\n",
       "<table border=\"1\" class=\"dataframe\">\n",
       "  <thead>\n",
       "    <tr style=\"text-align: right;\">\n",
       "      <th></th>\n",
       "      <th>Sender</th>\n",
       "      <th>TimeStamp</th>\n",
       "      <th>Message</th>\n",
       "      <th>Kalba</th>\n",
       "      <th>Message_Length</th>\n",
       "    </tr>\n",
       "  </thead>\n",
       "  <tbody>\n",
       "    <tr>\n",
       "      <th>6259</th>\n",
       "      <td>Rimantas Preiksas</td>\n",
       "      <td>2020-04-01 21:15:01.634</td>\n",
       "      <td>/</td>\n",
       "      <td>unknown</td>\n",
       "      <td>1.0</td>\n",
       "    </tr>\n",
       "    <tr>\n",
       "      <th>6253</th>\n",
       "      <td>Rimantas Preiksas</td>\n",
       "      <td>2020-04-01 21:14:16.019</td>\n",
       "      <td>?</td>\n",
       "      <td>unknown</td>\n",
       "      <td>1.0</td>\n",
       "    </tr>\n",
       "    <tr>\n",
       "      <th>32787</th>\n",
       "      <td>Rimantas Preiksas</td>\n",
       "      <td>2023-10-01 09:40:24.724</td>\n",
       "      <td>?</td>\n",
       "      <td>unknown</td>\n",
       "      <td>1.0</td>\n",
       "    </tr>\n",
       "    <tr>\n",
       "      <th>12575</th>\n",
       "      <td>Rimantas Preiksas</td>\n",
       "      <td>2021-01-06 07:48:54.078</td>\n",
       "      <td>😀</td>\n",
       "      <td>unknown</td>\n",
       "      <td>1.0</td>\n",
       "    </tr>\n",
       "    <tr>\n",
       "      <th>1273</th>\n",
       "      <td>Rimantas Preiksas</td>\n",
       "      <td>2018-09-06 11:51:26.178</td>\n",
       "      <td>?</td>\n",
       "      <td>unknown</td>\n",
       "      <td>1.0</td>\n",
       "    </tr>\n",
       "    <tr>\n",
       "      <th>1263</th>\n",
       "      <td>Rimantas Preiksas</td>\n",
       "      <td>2018-09-01 22:55:34.611</td>\n",
       "      <td>?</td>\n",
       "      <td>unknown</td>\n",
       "      <td>1.0</td>\n",
       "    </tr>\n",
       "    <tr>\n",
       "      <th>7980</th>\n",
       "      <td>Rimantas Preiksas</td>\n",
       "      <td>2020-06-15 18:55:41.008</td>\n",
       "      <td>?</td>\n",
       "      <td>unknown</td>\n",
       "      <td>1.0</td>\n",
       "    </tr>\n",
       "    <tr>\n",
       "      <th>24248</th>\n",
       "      <td>Rimantas Preiksas</td>\n",
       "      <td>2022-05-09 09:00:30.186</td>\n",
       "      <td>?</td>\n",
       "      <td>unknown</td>\n",
       "      <td>1.0</td>\n",
       "    </tr>\n",
       "    <tr>\n",
       "      <th>6238</th>\n",
       "      <td>Rimantas Preiksas</td>\n",
       "      <td>2020-04-01 21:09:15.711</td>\n",
       "      <td>?</td>\n",
       "      <td>unknown</td>\n",
       "      <td>1.0</td>\n",
       "    </tr>\n",
       "    <tr>\n",
       "      <th>7996</th>\n",
       "      <td>Rimantas Preiksas</td>\n",
       "      <td>2020-06-15 19:04:09.491</td>\n",
       "      <td>😄</td>\n",
       "      <td>unknown</td>\n",
       "      <td>1.0</td>\n",
       "    </tr>\n",
       "    <tr>\n",
       "      <th>28365</th>\n",
       "      <td>Rimantas Preiksas</td>\n",
       "      <td>2023-01-13 09:58:42.275</td>\n",
       "      <td>?</td>\n",
       "      <td>unknown</td>\n",
       "      <td>1.0</td>\n",
       "    </tr>\n",
       "    <tr>\n",
       "      <th>12605</th>\n",
       "      <td>Rimantas Preiksas</td>\n",
       "      <td>2021-01-06 14:49:58.799</td>\n",
       "      <td>🙂</td>\n",
       "      <td>unknown</td>\n",
       "      <td>1.0</td>\n",
       "    </tr>\n",
       "    <tr>\n",
       "      <th>12600</th>\n",
       "      <td>Rimantas Preiksas</td>\n",
       "      <td>2021-01-06 14:42:42.117</td>\n",
       "      <td>?</td>\n",
       "      <td>unknown</td>\n",
       "      <td>1.0</td>\n",
       "    </tr>\n",
       "    <tr>\n",
       "      <th>17221</th>\n",
       "      <td>Rimantas Preiksas</td>\n",
       "      <td>2021-06-09 11:47:06.840</td>\n",
       "      <td>?</td>\n",
       "      <td>unknown</td>\n",
       "      <td>1.0</td>\n",
       "    </tr>\n",
       "    <tr>\n",
       "      <th>17206</th>\n",
       "      <td>Rimantas Preiksas</td>\n",
       "      <td>2021-06-09 11:39:27.563</td>\n",
       "      <td>?</td>\n",
       "      <td>unknown</td>\n",
       "      <td>1.0</td>\n",
       "    </tr>\n",
       "    <tr>\n",
       "      <th>21415</th>\n",
       "      <td>Rimantas Preiksas</td>\n",
       "      <td>2022-02-10 17:35:49.245</td>\n",
       "      <td>?</td>\n",
       "      <td>unknown</td>\n",
       "      <td>1.0</td>\n",
       "    </tr>\n",
       "    <tr>\n",
       "      <th>19828</th>\n",
       "      <td>Rimantas Preiksas</td>\n",
       "      <td>2021-11-22 21:03:18.136</td>\n",
       "      <td>?</td>\n",
       "      <td>unknown</td>\n",
       "      <td>1.0</td>\n",
       "    </tr>\n",
       "    <tr>\n",
       "      <th>34583</th>\n",
       "      <td>Rimantas Preiksas</td>\n",
       "      <td>2023-11-17 23:33:11.652</td>\n",
       "      <td>❤</td>\n",
       "      <td>unknown</td>\n",
       "      <td>1.0</td>\n",
       "    </tr>\n",
       "    <tr>\n",
       "      <th>16073</th>\n",
       "      <td>Rimantas Preiksas</td>\n",
       "      <td>2021-04-05 08:29:19.363</td>\n",
       "      <td>A</td>\n",
       "      <td>tl</td>\n",
       "      <td>1.0</td>\n",
       "    </tr>\n",
       "    <tr>\n",
       "      <th>16120</th>\n",
       "      <td>Rimantas Preiksas</td>\n",
       "      <td>2021-04-07 08:34:29.504</td>\n",
       "      <td>?</td>\n",
       "      <td>unknown</td>\n",
       "      <td>1.0</td>\n",
       "    </tr>\n",
       "  </tbody>\n",
       "</table>\n",
       "</div>"
      ],
      "text/plain": [
       "                  Sender                TimeStamp Message    Kalba  \\\n",
       "6259   Rimantas Preiksas  2020-04-01 21:15:01.634       /  unknown   \n",
       "6253   Rimantas Preiksas  2020-04-01 21:14:16.019       ?  unknown   \n",
       "32787  Rimantas Preiksas  2023-10-01 09:40:24.724       ?  unknown   \n",
       "12575  Rimantas Preiksas  2021-01-06 07:48:54.078       😀  unknown   \n",
       "1273   Rimantas Preiksas  2018-09-06 11:51:26.178       ?  unknown   \n",
       "1263   Rimantas Preiksas  2018-09-01 22:55:34.611       ?  unknown   \n",
       "7980   Rimantas Preiksas  2020-06-15 18:55:41.008       ?  unknown   \n",
       "24248  Rimantas Preiksas  2022-05-09 09:00:30.186       ?  unknown   \n",
       "6238   Rimantas Preiksas  2020-04-01 21:09:15.711       ?  unknown   \n",
       "7996   Rimantas Preiksas  2020-06-15 19:04:09.491       😄  unknown   \n",
       "28365  Rimantas Preiksas  2023-01-13 09:58:42.275       ?  unknown   \n",
       "12605  Rimantas Preiksas  2021-01-06 14:49:58.799       🙂  unknown   \n",
       "12600  Rimantas Preiksas  2021-01-06 14:42:42.117       ?  unknown   \n",
       "17221  Rimantas Preiksas  2021-06-09 11:47:06.840       ?  unknown   \n",
       "17206  Rimantas Preiksas  2021-06-09 11:39:27.563       ?  unknown   \n",
       "21415  Rimantas Preiksas  2022-02-10 17:35:49.245       ?  unknown   \n",
       "19828  Rimantas Preiksas  2021-11-22 21:03:18.136       ?  unknown   \n",
       "34583  Rimantas Preiksas  2023-11-17 23:33:11.652       ❤  unknown   \n",
       "16073  Rimantas Preiksas  2021-04-05 08:29:19.363       A       tl   \n",
       "16120  Rimantas Preiksas  2021-04-07 08:34:29.504       ?  unknown   \n",
       "\n",
       "       Message_Length  \n",
       "6259              1.0  \n",
       "6253              1.0  \n",
       "32787             1.0  \n",
       "12575             1.0  \n",
       "1273              1.0  \n",
       "1263              1.0  \n",
       "7980              1.0  \n",
       "24248             1.0  \n",
       "6238              1.0  \n",
       "7996              1.0  \n",
       "28365             1.0  \n",
       "12605             1.0  \n",
       "12600             1.0  \n",
       "17221             1.0  \n",
       "17206             1.0  \n",
       "21415             1.0  \n",
       "19828             1.0  \n",
       "34583             1.0  \n",
       "16073             1.0  \n",
       "16120             1.0  "
      ]
     },
     "execution_count": 8,
     "metadata": {},
     "output_type": "execute_result"
    }
   ],
   "source": [
    "trumpiausiu_20=table_sorted.sort_values('Message_Length')\n",
    "trumpiausiu_20.head(20)"
   ]
  },
  {
   "cell_type": "markdown",
   "metadata": {},
   "source": [
    "**Randame ilgesnius nei 1 simbolis**"
   ]
  },
  {
   "cell_type": "code",
   "execution_count": 9,
   "metadata": {},
   "outputs": [
    {
     "data": {
      "text/html": [
       "<div>\n",
       "<style scoped>\n",
       "    .dataframe tbody tr th:only-of-type {\n",
       "        vertical-align: middle;\n",
       "    }\n",
       "\n",
       "    .dataframe tbody tr th {\n",
       "        vertical-align: top;\n",
       "    }\n",
       "\n",
       "    .dataframe thead th {\n",
       "        text-align: right;\n",
       "    }\n",
       "</style>\n",
       "<table border=\"1\" class=\"dataframe\">\n",
       "  <thead>\n",
       "    <tr style=\"text-align: right;\">\n",
       "      <th></th>\n",
       "      <th>Sender</th>\n",
       "      <th>TimeStamp</th>\n",
       "      <th>Message</th>\n",
       "      <th>Kalba</th>\n",
       "      <th>Message_Length</th>\n",
       "    </tr>\n",
       "  </thead>\n",
       "  <tbody>\n",
       "    <tr>\n",
       "      <th>23</th>\n",
       "      <td>Rimantas Preiksas</td>\n",
       "      <td>2017-10-05 18:09:10.570</td>\n",
       "      <td>Nu mantuzai</td>\n",
       "      <td>sw</td>\n",
       "      <td>11.0</td>\n",
       "    </tr>\n",
       "    <tr>\n",
       "      <th>64</th>\n",
       "      <td>Rimantas Preiksas</td>\n",
       "      <td>2017-10-11 18:51:50.462</td>\n",
       "      <td>Tiek to iki</td>\n",
       "      <td>lt</td>\n",
       "      <td>11.0</td>\n",
       "    </tr>\n",
       "    <tr>\n",
       "      <th>7148</th>\n",
       "      <td>Mantas Mantinis</td>\n",
       "      <td>2020-05-28 15:57:52.077</td>\n",
       "      <td>How are you</td>\n",
       "      <td>en</td>\n",
       "      <td>11.0</td>\n",
       "    </tr>\n",
       "    <tr>\n",
       "      <th>32089</th>\n",
       "      <td>Rimantas Preiksas</td>\n",
       "      <td>2023-08-25 18:32:20.546</td>\n",
       "      <td>Mindaugai..</td>\n",
       "      <td>lt</td>\n",
       "      <td>11.0</td>\n",
       "    </tr>\n",
       "    <tr>\n",
       "      <th>21908</th>\n",
       "      <td>Rimantas Preiksas</td>\n",
       "      <td>2022-02-21 19:06:12.213</td>\n",
       "      <td>prieš miegq</td>\n",
       "      <td>lt</td>\n",
       "      <td>11.0</td>\n",
       "    </tr>\n",
       "    <tr>\n",
       "      <th>21906</th>\n",
       "      <td>Indre DragÅ«nÄ</td>\n",
       "      <td>2022-02-21 19:06:01.328</td>\n",
       "      <td>Tuoj jungiu</td>\n",
       "      <td>lt</td>\n",
       "      <td>11.0</td>\n",
       "    </tr>\n",
       "    <tr>\n",
       "      <th>37687</th>\n",
       "      <td>Nerijus Zifermanas</td>\n",
       "      <td>2024-06-23 18:35:58.384</td>\n",
       "      <td>Ka beveiki?</td>\n",
       "      <td>lt</td>\n",
       "      <td>11.0</td>\n",
       "    </tr>\n",
       "    <tr>\n",
       "      <th>34561</th>\n",
       "      <td>Irma Siaudvirtyte-barkauske</td>\n",
       "      <td>2023-11-17 09:46:31.295</td>\n",
       "      <td>Nebereikes😂</td>\n",
       "      <td>de</td>\n",
       "      <td>11.0</td>\n",
       "    </tr>\n",
       "    <tr>\n",
       "      <th>30097</th>\n",
       "      <td>Rimantas Preiksas</td>\n",
       "      <td>2023-04-03 19:32:55.574</td>\n",
       "      <td>tai pasukau</td>\n",
       "      <td>lt</td>\n",
       "      <td>11.0</td>\n",
       "    </tr>\n",
       "    <tr>\n",
       "      <th>16124</th>\n",
       "      <td>Rimantas Preiksas</td>\n",
       "      <td>2021-04-07 08:42:10.836</td>\n",
       "      <td>Nu pamegink</td>\n",
       "      <td>lt</td>\n",
       "      <td>11.0</td>\n",
       "    </tr>\n",
       "    <tr>\n",
       "      <th>23615</th>\n",
       "      <td>Rimantas Preiksas</td>\n",
       "      <td>2022-04-04 13:11:15.783</td>\n",
       "      <td>Dar negaliu</td>\n",
       "      <td>id</td>\n",
       "      <td>11.0</td>\n",
       "    </tr>\n",
       "    <tr>\n",
       "      <th>8584</th>\n",
       "      <td>Rimantas Preiksas</td>\n",
       "      <td>2020-07-16 10:17:20.137</td>\n",
       "      <td>cia sukiesi</td>\n",
       "      <td>lt</td>\n",
       "      <td>11.0</td>\n",
       "    </tr>\n",
       "    <tr>\n",
       "      <th>22974</th>\n",
       "      <td>Rimantas Preiksas</td>\n",
       "      <td>2022-03-03 06:24:20.930</td>\n",
       "      <td>34910050491</td>\n",
       "      <td>unknown</td>\n",
       "      <td>11.0</td>\n",
       "    </tr>\n",
       "    <tr>\n",
       "      <th>36340</th>\n",
       "      <td>Karolis Pocius</td>\n",
       "      <td>2024-01-13 21:06:55.713</td>\n",
       "      <td>Abi užimtos</td>\n",
       "      <td>lt</td>\n",
       "      <td>11.0</td>\n",
       "    </tr>\n",
       "    <tr>\n",
       "      <th>7115</th>\n",
       "      <td>Rimantas Preiksas</td>\n",
       "      <td>2020-05-26 20:08:26.386</td>\n",
       "      <td>Kaip Meskys</td>\n",
       "      <td>lt</td>\n",
       "      <td>11.0</td>\n",
       "    </tr>\n",
       "    <tr>\n",
       "      <th>13651</th>\n",
       "      <td>Rimantas Preiksas</td>\n",
       "      <td>2021-01-30 08:37:23.139</td>\n",
       "      <td>Labas rytas</td>\n",
       "      <td>lt</td>\n",
       "      <td>11.0</td>\n",
       "    </tr>\n",
       "    <tr>\n",
       "      <th>27794</th>\n",
       "      <td>Irma Siaudvirtyte-barkauske</td>\n",
       "      <td>2022-12-29 21:57:33.800</td>\n",
       "      <td>Na pabandyk</td>\n",
       "      <td>tl</td>\n",
       "      <td>11.0</td>\n",
       "    </tr>\n",
       "    <tr>\n",
       "      <th>21958</th>\n",
       "      <td>Rimantas Preiksas</td>\n",
       "      <td>2022-02-21 19:19:11.690</td>\n",
       "      <td>tai reiškai</td>\n",
       "      <td>lt</td>\n",
       "      <td>11.0</td>\n",
       "    </tr>\n",
       "    <tr>\n",
       "      <th>28366</th>\n",
       "      <td>Rimantas Preiksas</td>\n",
       "      <td>2023-01-13 09:58:43.095</td>\n",
       "      <td>seniunijoje</td>\n",
       "      <td>lt</td>\n",
       "      <td>11.0</td>\n",
       "    </tr>\n",
       "    <tr>\n",
       "      <th>22287</th>\n",
       "      <td>Rimantas Preiksas</td>\n",
       "      <td>2022-02-24 06:51:25.207</td>\n",
       "      <td>Labas rytas</td>\n",
       "      <td>lt</td>\n",
       "      <td>11.0</td>\n",
       "    </tr>\n",
       "  </tbody>\n",
       "</table>\n",
       "</div>"
      ],
      "text/plain": [
       "                            Sender                TimeStamp      Message  \\\n",
       "23               Rimantas Preiksas  2017-10-05 18:09:10.570  Nu mantuzai   \n",
       "64               Rimantas Preiksas  2017-10-11 18:51:50.462  Tiek to iki   \n",
       "7148               Mantas Mantinis  2020-05-28 15:57:52.077  How are you   \n",
       "32089            Rimantas Preiksas  2023-08-25 18:32:20.546  Mindaugai..   \n",
       "21908            Rimantas Preiksas  2022-02-21 19:06:12.213  prieš miegq   \n",
       "21906              Indre DragÅ«nÄ  2022-02-21 19:06:01.328  Tuoj jungiu   \n",
       "37687           Nerijus Zifermanas  2024-06-23 18:35:58.384  Ka beveiki?   \n",
       "34561  Irma Siaudvirtyte-barkauske  2023-11-17 09:46:31.295  Nebereikes😂   \n",
       "30097            Rimantas Preiksas  2023-04-03 19:32:55.574  tai pasukau   \n",
       "16124            Rimantas Preiksas  2021-04-07 08:42:10.836  Nu pamegink   \n",
       "23615            Rimantas Preiksas  2022-04-04 13:11:15.783  Dar negaliu   \n",
       "8584             Rimantas Preiksas  2020-07-16 10:17:20.137  cia sukiesi   \n",
       "22974            Rimantas Preiksas  2022-03-03 06:24:20.930  34910050491   \n",
       "36340               Karolis Pocius  2024-01-13 21:06:55.713  Abi užimtos   \n",
       "7115             Rimantas Preiksas  2020-05-26 20:08:26.386  Kaip Meskys   \n",
       "13651            Rimantas Preiksas  2021-01-30 08:37:23.139  Labas rytas   \n",
       "27794  Irma Siaudvirtyte-barkauske  2022-12-29 21:57:33.800  Na pabandyk   \n",
       "21958            Rimantas Preiksas  2022-02-21 19:19:11.690  tai reiškai   \n",
       "28366            Rimantas Preiksas  2023-01-13 09:58:43.095  seniunijoje   \n",
       "22287            Rimantas Preiksas  2022-02-24 06:51:25.207  Labas rytas   \n",
       "\n",
       "         Kalba  Message_Length  \n",
       "23          sw            11.0  \n",
       "64          lt            11.0  \n",
       "7148        en            11.0  \n",
       "32089       lt            11.0  \n",
       "21908       lt            11.0  \n",
       "21906       lt            11.0  \n",
       "37687       lt            11.0  \n",
       "34561       de            11.0  \n",
       "30097       lt            11.0  \n",
       "16124       lt            11.0  \n",
       "23615       id            11.0  \n",
       "8584        lt            11.0  \n",
       "22974  unknown            11.0  \n",
       "36340       lt            11.0  \n",
       "7115        lt            11.0  \n",
       "13651       lt            11.0  \n",
       "27794       tl            11.0  \n",
       "21958       lt            11.0  \n",
       "28366       lt            11.0  \n",
       "22287       lt            11.0  "
      ]
     },
     "execution_count": 9,
     "metadata": {},
     "output_type": "execute_result"
    }
   ],
   "source": [
    "ilgesni_nei_1_s=trumpiausiu_20[trumpiausiu_20[\"Message_Length\"]>10]\n",
    "ilgesni_nei_1_s.head(20)"
   ]
  },
  {
   "cell_type": "markdown",
   "metadata": {},
   "source": [
    "## Bag-of-words model CountVectorizer"
   ]
  },
  {
   "cell_type": "code",
   "execution_count": 10,
   "metadata": {},
   "outputs": [
    {
     "name": "stdout",
     "output_type": "stream",
     "text": [
      "Word counts exported to 'word_counts.txt'.\n"
     ]
    }
   ],
   "source": [
    "from sklearn.feature_extraction.text import CountVectorizer\n",
    "zinutes=[]\n",
    "def visos_zinutes(arr):\n",
    "    žinutės=[]\n",
    "    for item in arr:\n",
    "        zinutes.append(item)\n",
    "\n",
    "visos_zinutes(table_sorted[\"Message\"])\n",
    "\n",
    "with open('visos_zinutes.txt', 'w') as f:\n",
    "    for item in zinutes:\n",
    "        f.write(f'{item}\\n')  # Each item is written on a new line\n",
    "\n",
    "print(\"Word counts exported to 'word_counts.txt'.\")\n"
   ]
  },
  {
   "cell_type": "code",
   "execution_count": 11,
   "metadata": {},
   "outputs": [
    {
     "name": "stdout",
     "output_type": "stream",
     "text": [
      "['00' '000' '0009' ... 'свири' 'тебе' 'эту']\n",
      "[[60  1  1 ...  1  1  1]]\n"
     ]
    },
    {
     "data": {
      "text/html": [
       "<div>\n",
       "<style scoped>\n",
       "    .dataframe tbody tr th:only-of-type {\n",
       "        vertical-align: middle;\n",
       "    }\n",
       "\n",
       "    .dataframe tbody tr th {\n",
       "        vertical-align: top;\n",
       "    }\n",
       "\n",
       "    .dataframe thead th {\n",
       "        text-align: right;\n",
       "    }\n",
       "</style>\n",
       "<table border=\"1\" class=\"dataframe\">\n",
       "  <thead>\n",
       "    <tr style=\"text-align: right;\">\n",
       "      <th></th>\n",
       "      <th>Word</th>\n",
       "      <th>Frequency</th>\n",
       "    </tr>\n",
       "  </thead>\n",
       "  <tbody>\n",
       "    <tr>\n",
       "      <th>0</th>\n",
       "      <td>nan</td>\n",
       "      <td>3463</td>\n",
       "    </tr>\n",
       "    <tr>\n",
       "      <th>1</th>\n",
       "      <td>ir</td>\n",
       "      <td>3348</td>\n",
       "    </tr>\n",
       "    <tr>\n",
       "      <th>2</th>\n",
       "      <td>tai</td>\n",
       "      <td>3147</td>\n",
       "    </tr>\n",
       "    <tr>\n",
       "      <th>3</th>\n",
       "      <td>skambuti</td>\n",
       "      <td>3002</td>\n",
       "    </tr>\n",
       "    <tr>\n",
       "      <th>4</th>\n",
       "      <td>kad</td>\n",
       "      <td>2059</td>\n",
       "    </tr>\n",
       "    <tr>\n",
       "      <th>5</th>\n",
       "      <td>italas</td>\n",
       "      <td>1858</td>\n",
       "    </tr>\n",
       "    <tr>\n",
       "      <th>6</th>\n",
       "      <td>kaip</td>\n",
       "      <td>1786</td>\n",
       "    </tr>\n",
       "    <tr>\n",
       "      <th>7</th>\n",
       "      <td>as</td>\n",
       "      <td>1769</td>\n",
       "    </tr>\n",
       "    <tr>\n",
       "      <th>8</th>\n",
       "      <td>jusu</td>\n",
       "      <td>1761</td>\n",
       "    </tr>\n",
       "    <tr>\n",
       "      <th>9</th>\n",
       "      <td>praleido</td>\n",
       "      <td>1685</td>\n",
       "    </tr>\n",
       "    <tr>\n",
       "      <th>10</th>\n",
       "      <td>vaizdo</td>\n",
       "      <td>1587</td>\n",
       "    </tr>\n",
       "    <tr>\n",
       "      <th>11</th>\n",
       "      <td>su</td>\n",
       "      <td>1484</td>\n",
       "    </tr>\n",
       "    <tr>\n",
       "      <th>12</th>\n",
       "      <td>jus</td>\n",
       "      <td>1403</td>\n",
       "    </tr>\n",
       "    <tr>\n",
       "      <th>13</th>\n",
       "      <td>bet</td>\n",
       "      <td>1363</td>\n",
       "    </tr>\n",
       "    <tr>\n",
       "      <th>14</th>\n",
       "      <td>praleidote</td>\n",
       "      <td>1313</td>\n",
       "    </tr>\n",
       "    <tr>\n",
       "      <th>15</th>\n",
       "      <td>skambinote</td>\n",
       "      <td>1250</td>\n",
       "    </tr>\n",
       "    <tr>\n",
       "      <th>16</th>\n",
       "      <td>ar</td>\n",
       "      <td>1225</td>\n",
       "    </tr>\n",
       "    <tr>\n",
       "      <th>17</th>\n",
       "      <td>nuo</td>\n",
       "      <td>1204</td>\n",
       "    </tr>\n",
       "    <tr>\n",
       "      <th>18</th>\n",
       "      <td>labas</td>\n",
       "      <td>1166</td>\n",
       "    </tr>\n",
       "    <tr>\n",
       "      <th>19</th>\n",
       "      <td>taip</td>\n",
       "      <td>1142</td>\n",
       "    </tr>\n",
       "    <tr>\n",
       "      <th>20</th>\n",
       "      <td>skambutis</td>\n",
       "      <td>1101</td>\n",
       "    </tr>\n",
       "    <tr>\n",
       "      <th>21</th>\n",
       "      <td>ok</td>\n",
       "      <td>1098</td>\n",
       "    </tr>\n",
       "    <tr>\n",
       "      <th>22</th>\n",
       "      <td>baigesi</td>\n",
       "      <td>1077</td>\n",
       "    </tr>\n",
       "    <tr>\n",
       "      <th>23</th>\n",
       "      <td>nu</td>\n",
       "      <td>1021</td>\n",
       "    </tr>\n",
       "    <tr>\n",
       "      <th>24</th>\n",
       "      <td>jums</td>\n",
       "      <td>1012</td>\n",
       "    </tr>\n",
       "    <tr>\n",
       "      <th>25</th>\n",
       "      <td>jo</td>\n",
       "      <td>960</td>\n",
       "    </tr>\n",
       "    <tr>\n",
       "      <th>26</th>\n",
       "      <td>ne</td>\n",
       "      <td>935</td>\n",
       "    </tr>\n",
       "    <tr>\n",
       "      <th>27</th>\n",
       "      <td>skambino</td>\n",
       "      <td>933</td>\n",
       "    </tr>\n",
       "    <tr>\n",
       "      <th>28</th>\n",
       "      <td>ka</td>\n",
       "      <td>929</td>\n",
       "    </tr>\n",
       "    <tr>\n",
       "      <th>29</th>\n",
       "      <td>tu</td>\n",
       "      <td>914</td>\n",
       "    </tr>\n",
       "    <tr>\n",
       "      <th>30</th>\n",
       "      <td>yra</td>\n",
       "      <td>912</td>\n",
       "    </tr>\n",
       "    <tr>\n",
       "      <th>31</th>\n",
       "      <td>dar</td>\n",
       "      <td>899</td>\n",
       "    </tr>\n",
       "    <tr>\n",
       "      <th>32</th>\n",
       "      <td>is</td>\n",
       "      <td>868</td>\n",
       "    </tr>\n",
       "    <tr>\n",
       "      <th>33</th>\n",
       "      <td>jau</td>\n",
       "      <td>857</td>\n",
       "    </tr>\n",
       "    <tr>\n",
       "      <th>34</th>\n",
       "      <td>man</td>\n",
       "      <td>855</td>\n",
       "    </tr>\n",
       "    <tr>\n",
       "      <th>35</th>\n",
       "      <td>gal</td>\n",
       "      <td>830</td>\n",
       "    </tr>\n",
       "    <tr>\n",
       "      <th>36</th>\n",
       "      <td>kai</td>\n",
       "      <td>818</td>\n",
       "    </tr>\n",
       "    <tr>\n",
       "      <th>37</th>\n",
       "      <td>tik</td>\n",
       "      <td>811</td>\n",
       "    </tr>\n",
       "    <tr>\n",
       "      <th>38</th>\n",
       "      <td>na</td>\n",
       "      <td>774</td>\n",
       "    </tr>\n",
       "    <tr>\n",
       "      <th>39</th>\n",
       "      <td>to</td>\n",
       "      <td>766</td>\n",
       "    </tr>\n",
       "    <tr>\n",
       "      <th>40</th>\n",
       "      <td>gerai</td>\n",
       "      <td>763</td>\n",
       "    </tr>\n",
       "    <tr>\n",
       "      <th>41</th>\n",
       "      <td>tau</td>\n",
       "      <td>720</td>\n",
       "    </tr>\n",
       "    <tr>\n",
       "      <th>42</th>\n",
       "      <td>cia</td>\n",
       "      <td>672</td>\n",
       "    </tr>\n",
       "    <tr>\n",
       "      <th>43</th>\n",
       "      <td>dabar</td>\n",
       "      <td>665</td>\n",
       "    </tr>\n",
       "    <tr>\n",
       "      <th>44</th>\n",
       "      <td>https</td>\n",
       "      <td>660</td>\n",
       "    </tr>\n",
       "    <tr>\n",
       "      <th>45</th>\n",
       "      <td>you</td>\n",
       "      <td>628</td>\n",
       "    </tr>\n",
       "    <tr>\n",
       "      <th>46</th>\n",
       "      <td>kas</td>\n",
       "      <td>620</td>\n",
       "    </tr>\n",
       "    <tr>\n",
       "      <th>47</th>\n",
       "      <td>laurynas</td>\n",
       "      <td>613</td>\n",
       "    </tr>\n",
       "    <tr>\n",
       "      <th>48</th>\n",
       "      <td>sveikas</td>\n",
       "      <td>593</td>\n",
       "    </tr>\n",
       "    <tr>\n",
       "      <th>49</th>\n",
       "      <td>jis</td>\n",
       "      <td>541</td>\n",
       "    </tr>\n",
       "  </tbody>\n",
       "</table>\n",
       "</div>"
      ],
      "text/plain": [
       "          Word  Frequency\n",
       "0          nan       3463\n",
       "1           ir       3348\n",
       "2          tai       3147\n",
       "3     skambuti       3002\n",
       "4          kad       2059\n",
       "5       italas       1858\n",
       "6         kaip       1786\n",
       "7           as       1769\n",
       "8         jusu       1761\n",
       "9     praleido       1685\n",
       "10      vaizdo       1587\n",
       "11          su       1484\n",
       "12         jus       1403\n",
       "13         bet       1363\n",
       "14  praleidote       1313\n",
       "15  skambinote       1250\n",
       "16          ar       1225\n",
       "17         nuo       1204\n",
       "18       labas       1166\n",
       "19        taip       1142\n",
       "20   skambutis       1101\n",
       "21          ok       1098\n",
       "22     baigesi       1077\n",
       "23          nu       1021\n",
       "24        jums       1012\n",
       "25          jo        960\n",
       "26          ne        935\n",
       "27    skambino        933\n",
       "28          ka        929\n",
       "29          tu        914\n",
       "30         yra        912\n",
       "31         dar        899\n",
       "32          is        868\n",
       "33         jau        857\n",
       "34         man        855\n",
       "35         gal        830\n",
       "36         kai        818\n",
       "37         tik        811\n",
       "38          na        774\n",
       "39          to        766\n",
       "40       gerai        763\n",
       "41         tau        720\n",
       "42         cia        672\n",
       "43       dabar        665\n",
       "44       https        660\n",
       "45         you        628\n",
       "46         kas        620\n",
       "47    laurynas        613\n",
       "48     sveikas        593\n",
       "49         jis        541"
      ]
     },
     "execution_count": 11,
     "metadata": {},
     "output_type": "execute_result"
    }
   ],
   "source": [
    "from sklearn.feature_extraction.text import CountVectorizer\n",
    "\n",
    "stop_zodziai=[]\n",
    "vectorizer = CountVectorizer(input='file', decode_error='ignore', strip_accents='unicode',stop_words=stop_zodziai)\n",
    "failas = open('visos_zinutes.txt')\n",
    "\n",
    "vectors = vectorizer.fit_transform([failas])\n",
    "print(vectorizer.get_feature_names_out())\n",
    "print(vectors.toarray())\n",
    "\n",
    "\n",
    "word_counts = vectors.sum(axis=0)\n",
    "\n",
    "# Get the list of words and their corresponding counts\n",
    "word_freq = [(word, word_counts[0, idx]) for word, idx in vectorizer.vocabulary_.items()]\n",
    "\n",
    "# Sort by frequency (descending order) and get the top 50 words\n",
    "sorted_word_freq = sorted(word_freq, key=lambda x: x[1], reverse=True)[:50]\n",
    "\n",
    "# Convert to a DataFrame for better visualization (optional)\n",
    "df_top_words = pd.DataFrame(sorted_word_freq, columns=['Word', 'Frequency'])\n",
    "\n",
    "df_top_words\n",
    "\n",
    "\n"
   ]
  },
  {
   "cell_type": "markdown",
   "metadata": {},
   "source": [
    "- skabtusi - ta ... \n"
   ]
  },
  {
   "cell_type": "markdown",
   "metadata": {},
   "source": [
    "# Labiausiai naudotas Emoji"
   ]
  },
  {
   "cell_type": "code",
   "execution_count": 12,
   "metadata": {},
   "outputs": [
    {
     "name": "stdout",
     "output_type": "stream",
     "text": [
      "   Emoji  Frequency\n",
      "0      😂        516\n",
      "1      🙂        262\n",
      "2      😊        260\n",
      "3      😁        209\n",
      "4      😀        184\n",
      "5      😉        135\n",
      "6      😄         98\n",
      "7      😅         91\n",
      "8      🙈         68\n",
      "9      😘         65\n",
      "10     👍         61\n",
      "11     😃         51\n",
      "12     🙏         45\n",
      "13     😞         36\n",
      "14     🙄         32\n",
      "15     😍         30\n",
      "16     😌         30\n",
      "17     🍾         27\n",
      "18     😆         23\n",
      "19     🌱         22\n",
      "20     😇         17\n",
      "21     😏         16\n",
      "22     🙃         15\n",
      "23     🎂         12\n",
      "24     👌         11\n",
      "25     💪         10\n",
      "26     😎          9\n",
      "27     😽          9\n",
      "28     😕          9\n",
      "29     🌹          9\n",
      "30     😴          8\n",
      "31     🎄          7\n",
      "32     🎉          7\n",
      "33     😪          7\n",
      "34     😒          7\n",
      "35     🍺          6\n",
      "36     🎁          6\n",
      "37     🎈          6\n",
      "38     😨          6\n",
      "39     😐          5\n",
      "40     😙          5\n",
      "41     😭          5\n",
      "42     😔          5\n",
      "43     🔥          5\n",
      "44     👏          5\n",
      "45     🍻          5\n",
      "46     😢          4\n",
      "47     💯          4\n",
      "48     🏳          4\n",
      "49     🍰          4\n",
      "50     👋          4\n",
      "51     😡          4\n",
      "52     🚀          4\n",
      "53     😜          3\n",
      "54     🐷          3\n",
      "55     🍷          3\n",
      "56     😠          3\n",
      "57     😻          3\n",
      "58     😬          3\n",
      "59     💫          3\n"
     ]
    }
   ],
   "source": [
    "# Emoji seka\n",
    "emoji_seka = r'[\\U0001F600-\\U0001F64F\\U0001F300-\\U0001F5FF\\U0001F680-\\U0001F6FF\\U0001F700-\\U0001F77F\\U0001F780-\\U0001F7FF\\U0001F800-\\U0001F8FF]'\n",
    "\n",
    "\n",
    "# Inicijuojame CountVectorizer su emoji seka\n",
    "vectorizer = CountVectorizer(input='file', decode_error='ignore', strip_accents='unicode',token_pattern=emoji_seka)\n",
    "failas = open('visos_zinutes.txt')\n",
    "\n",
    "# Fit and transform the documents to get the emoji count matrix\n",
    "vectors = vectorizer.fit_transform([failas])\n",
    "\n",
    "# Sum the emoji counts for each emoji\n",
    "emoji_counts = vectors.sum(axis=0)\n",
    "\n",
    "# Get the list of emojis and their corresponding counts\n",
    "emoji_freq = [(emoji, emoji_counts[0, idx]) for emoji, idx in vectorizer.vocabulary_.items()]\n",
    "\n",
    "# Sort by frequency (descending order) and get the top emojis\n",
    "sorted_emoji_freq = sorted(emoji_freq, key=lambda x: x[1], reverse=True)[:60]\n",
    "\n",
    "# Convert to a DataFrame for better visualization (optional)\n",
    "df_top_emojis = pd.DataFrame(sorted_emoji_freq, columns=['Emoji', 'Frequency'])\n",
    "\n",
    "print(df_top_emojis)"
   ]
  },
  {
   "cell_type": "markdown",
   "metadata": {},
   "source": [
    "## Daugiaiusiai man išsiunte žinučių žmones"
   ]
  },
  {
   "cell_type": "code",
   "execution_count": 13,
   "metadata": {},
   "outputs": [
    {
     "data": {
      "text/html": [
       "<div>\n",
       "<style scoped>\n",
       "    .dataframe tbody tr th:only-of-type {\n",
       "        vertical-align: middle;\n",
       "    }\n",
       "\n",
       "    .dataframe tbody tr th {\n",
       "        vertical-align: top;\n",
       "    }\n",
       "\n",
       "    .dataframe thead th {\n",
       "        text-align: right;\n",
       "    }\n",
       "</style>\n",
       "<table border=\"1\" class=\"dataframe\">\n",
       "  <thead>\n",
       "    <tr style=\"text-align: right;\">\n",
       "      <th></th>\n",
       "      <th>Sender</th>\n",
       "      <th>Message Count</th>\n",
       "    </tr>\n",
       "  </thead>\n",
       "  <tbody>\n",
       "    <tr>\n",
       "      <th>42</th>\n",
       "      <td>Laurynas Antanauskas</td>\n",
       "      <td>3109</td>\n",
       "    </tr>\n",
       "    <tr>\n",
       "      <th>86</th>\n",
       "      <td>Vaida Å tarolytÄ Lesutiene</td>\n",
       "      <td>2278</td>\n",
       "    </tr>\n",
       "    <tr>\n",
       "      <th>73</th>\n",
       "      <td>Roberta RÄÄkuvienÄ</td>\n",
       "      <td>1228</td>\n",
       "    </tr>\n",
       "    <tr>\n",
       "      <th>79</th>\n",
       "      <td>Stanislovas DragÅ«nas</td>\n",
       "      <td>1018</td>\n",
       "    </tr>\n",
       "    <tr>\n",
       "      <th>29</th>\n",
       "      <td>Italas Italijoje</td>\n",
       "      <td>975</td>\n",
       "    </tr>\n",
       "    <tr>\n",
       "      <th>27</th>\n",
       "      <td>Indre DragÅ«nÄ</td>\n",
       "      <td>917</td>\n",
       "    </tr>\n",
       "    <tr>\n",
       "      <th>28</th>\n",
       "      <td>Irma Siaudvirtyte-barkauske</td>\n",
       "      <td>664</td>\n",
       "    </tr>\n",
       "    <tr>\n",
       "      <th>44</th>\n",
       "      <td>Mantas Mantinis</td>\n",
       "      <td>622</td>\n",
       "    </tr>\n",
       "    <tr>\n",
       "      <th>10</th>\n",
       "      <td>Darius Briedis</td>\n",
       "      <td>481</td>\n",
       "    </tr>\n",
       "    <tr>\n",
       "      <th>37</th>\n",
       "      <td>Karolis Petkus</td>\n",
       "      <td>434</td>\n",
       "    </tr>\n",
       "    <tr>\n",
       "      <th>18</th>\n",
       "      <td>Egidijus Grimaila</td>\n",
       "      <td>374</td>\n",
       "    </tr>\n",
       "    <tr>\n",
       "      <th>81</th>\n",
       "      <td>Svetlana JaÅ¡inskienÄ</td>\n",
       "      <td>281</td>\n",
       "    </tr>\n",
       "    <tr>\n",
       "      <th>22</th>\n",
       "      <td>Giedrius Barkauskas</td>\n",
       "      <td>256</td>\n",
       "    </tr>\n",
       "    <tr>\n",
       "      <th>21</th>\n",
       "      <td>GabrielÄ Å iaulytytÄ</td>\n",
       "      <td>249</td>\n",
       "    </tr>\n",
       "    <tr>\n",
       "      <th>5</th>\n",
       "      <td>Audrius Gecas</td>\n",
       "      <td>226</td>\n",
       "    </tr>\n",
       "    <tr>\n",
       "      <th>71</th>\n",
       "      <td>Rita Vidraite</td>\n",
       "      <td>215</td>\n",
       "    </tr>\n",
       "    <tr>\n",
       "      <th>36</th>\n",
       "      <td>KamilÄ AntanauskienÄ</td>\n",
       "      <td>201</td>\n",
       "    </tr>\n",
       "    <tr>\n",
       "      <th>35</th>\n",
       "      <td>Justinas Zvirblis</td>\n",
       "      <td>181</td>\n",
       "    </tr>\n",
       "    <tr>\n",
       "      <th>76</th>\n",
       "      <td>Sigitas Motuzas</td>\n",
       "      <td>176</td>\n",
       "    </tr>\n",
       "    <tr>\n",
       "      <th>46</th>\n",
       "      <td>Marek Dunaj</td>\n",
       "      <td>170</td>\n",
       "    </tr>\n",
       "    <tr>\n",
       "      <th>7</th>\n",
       "      <td>Augustinas Prei</td>\n",
       "      <td>158</td>\n",
       "    </tr>\n",
       "    <tr>\n",
       "      <th>66</th>\n",
       "      <td>Remi Gijus</td>\n",
       "      <td>148</td>\n",
       "    </tr>\n",
       "    <tr>\n",
       "      <th>19</th>\n",
       "      <td>Ernest Winckiewicz</td>\n",
       "      <td>138</td>\n",
       "    </tr>\n",
       "    <tr>\n",
       "      <th>25</th>\n",
       "      <td>GraÅ¾ina BernotaitÄ</td>\n",
       "      <td>136</td>\n",
       "    </tr>\n",
       "    <tr>\n",
       "      <th>51</th>\n",
       "      <td>Migle Cerniauskaite</td>\n",
       "      <td>128</td>\n",
       "    </tr>\n",
       "    <tr>\n",
       "      <th>52</th>\n",
       "      <td>Mindau Gas</td>\n",
       "      <td>104</td>\n",
       "    </tr>\n",
       "    <tr>\n",
       "      <th>20</th>\n",
       "      <td>Evaldas Prekeris</td>\n",
       "      <td>98</td>\n",
       "    </tr>\n",
       "    <tr>\n",
       "      <th>82</th>\n",
       "      <td>Tadas Bagdonas</td>\n",
       "      <td>95</td>\n",
       "    </tr>\n",
       "    <tr>\n",
       "      <th>2</th>\n",
       "      <td>Aivaras Zymancius</td>\n",
       "      <td>77</td>\n",
       "    </tr>\n",
       "    <tr>\n",
       "      <th>58</th>\n",
       "      <td>Oskaras Feiferis</td>\n",
       "      <td>76</td>\n",
       "    </tr>\n",
       "    <tr>\n",
       "      <th>96</th>\n",
       "      <td>Zydrunas Stanslovas</td>\n",
       "      <td>75</td>\n",
       "    </tr>\n",
       "    <tr>\n",
       "      <th>24</th>\n",
       "      <td>Gitana Å½imailÄ</td>\n",
       "      <td>74</td>\n",
       "    </tr>\n",
       "    <tr>\n",
       "      <th>78</th>\n",
       "      <td>SkaistÄ SkaistutÄ</td>\n",
       "      <td>65</td>\n",
       "    </tr>\n",
       "    <tr>\n",
       "      <th>62</th>\n",
       "      <td>Raimonda Joksaite</td>\n",
       "      <td>58</td>\n",
       "    </tr>\n",
       "    <tr>\n",
       "      <th>38</th>\n",
       "      <td>Karolis Pocius</td>\n",
       "      <td>58</td>\n",
       "    </tr>\n",
       "    <tr>\n",
       "      <th>40</th>\n",
       "      <td>Lai Mis</td>\n",
       "      <td>52</td>\n",
       "    </tr>\n",
       "    <tr>\n",
       "      <th>90</th>\n",
       "      <td>Vitalijus Baltrusaitis</td>\n",
       "      <td>51</td>\n",
       "    </tr>\n",
       "    <tr>\n",
       "      <th>32</th>\n",
       "      <td>Judvytyte Austeja</td>\n",
       "      <td>51</td>\n",
       "    </tr>\n",
       "    <tr>\n",
       "      <th>4</th>\n",
       "      <td>Arturas Budrikas</td>\n",
       "      <td>45</td>\n",
       "    </tr>\n",
       "    <tr>\n",
       "      <th>56</th>\n",
       "      <td>Modesta Bazdaraite</td>\n",
       "      <td>45</td>\n",
       "    </tr>\n",
       "    <tr>\n",
       "      <th>61</th>\n",
       "      <td>Radza Petkus</td>\n",
       "      <td>35</td>\n",
       "    </tr>\n",
       "    <tr>\n",
       "      <th>9</th>\n",
       "      <td>Dangua Dangua</td>\n",
       "      <td>31</td>\n",
       "    </tr>\n",
       "    <tr>\n",
       "      <th>64</th>\n",
       "      <td>Ramunas Litvinas</td>\n",
       "      <td>30</td>\n",
       "    </tr>\n",
       "    <tr>\n",
       "      <th>84</th>\n",
       "      <td>Ula Judvytyte</td>\n",
       "      <td>30</td>\n",
       "    </tr>\n",
       "    <tr>\n",
       "      <th>97</th>\n",
       "      <td>âFacebookâ naudotojas</td>\n",
       "      <td>30</td>\n",
       "    </tr>\n",
       "    <tr>\n",
       "      <th>80</th>\n",
       "      <td>Stefa Antanauskiene</td>\n",
       "      <td>24</td>\n",
       "    </tr>\n",
       "    <tr>\n",
       "      <th>63</th>\n",
       "      <td>Raminta Ta</td>\n",
       "      <td>24</td>\n",
       "    </tr>\n",
       "    <tr>\n",
       "      <th>49</th>\n",
       "      <td>Martis Martis</td>\n",
       "      <td>19</td>\n",
       "    </tr>\n",
       "    <tr>\n",
       "      <th>16</th>\n",
       "      <td>Edita Lolat - Kacinskis</td>\n",
       "      <td>14</td>\n",
       "    </tr>\n",
       "    <tr>\n",
       "      <th>33</th>\n",
       "      <td>Justina RimkutÄ</td>\n",
       "      <td>14</td>\n",
       "    </tr>\n",
       "  </tbody>\n",
       "</table>\n",
       "</div>"
      ],
      "text/plain": [
       "                         Sender  Message Count\n",
       "42         Laurynas Antanauskas           3109\n",
       "86  Vaida Å tarolytÄ Lesutiene           2278\n",
       "73        Roberta RÄÄkuvienÄ           1228\n",
       "79        Stanislovas DragÅ«nas           1018\n",
       "29             Italas Italijoje            975\n",
       "27              Indre DragÅ«nÄ            917\n",
       "28  Irma Siaudvirtyte-barkauske            664\n",
       "44              Mantas Mantinis            622\n",
       "10               Darius Briedis            481\n",
       "37               Karolis Petkus            434\n",
       "18            Egidijus Grimaila            374\n",
       "81       Svetlana JaÅ¡inskienÄ            281\n",
       "22          Giedrius Barkauskas            256\n",
       "21       GabrielÄ Å iaulytytÄ            249\n",
       "5                 Audrius Gecas            226\n",
       "71                Rita Vidraite            215\n",
       "36       KamilÄ AntanauskienÄ            201\n",
       "35            Justinas Zvirblis            181\n",
       "76              Sigitas Motuzas            176\n",
       "46                  Marek Dunaj            170\n",
       "7               Augustinas Prei            158\n",
       "66                   Remi Gijus            148\n",
       "19           Ernest Winckiewicz            138\n",
       "25         GraÅ¾ina BernotaitÄ            136\n",
       "51          Migle Cerniauskaite            128\n",
       "52                   Mindau Gas            104\n",
       "20             Evaldas Prekeris             98\n",
       "82               Tadas Bagdonas             95\n",
       "2             Aivaras Zymancius             77\n",
       "58             Oskaras Feiferis             76\n",
       "96          Zydrunas Stanslovas             75\n",
       "24             Gitana Å½imailÄ             74\n",
       "78          SkaistÄ SkaistutÄ             65\n",
       "62            Raimonda Joksaite             58\n",
       "38               Karolis Pocius             58\n",
       "40                      Lai Mis             52\n",
       "90       Vitalijus Baltrusaitis             51\n",
       "32            Judvytyte Austeja             51\n",
       "4              Arturas Budrikas             45\n",
       "56           Modesta Bazdaraite             45\n",
       "61                 Radza Petkus             35\n",
       "9                 Dangua Dangua             31\n",
       "64             Ramunas Litvinas             30\n",
       "84                Ula Judvytyte             30\n",
       "97    âFacebookâ naudotojas             30\n",
       "80          Stefa Antanauskiene             24\n",
       "63                   Raminta Ta             24\n",
       "49                Martis Martis             19\n",
       "16      Edita Lolat - Kacinskis             14\n",
       "33             Justina RimkutÄ             14"
      ]
     },
     "execution_count": 13,
     "metadata": {},
     "output_type": "execute_result"
    }
   ],
   "source": [
    "# Assuming 'table_sorted' is your DataFrame\n",
    "# Step 1: Filter out messages from 'Rimantas Preiksas'\n",
    "table_filtered = table_sorted[table_sorted['Sender'] != 'Rimantas Preiksas']\n",
    "\n",
    "# Step 2: Group by 'Sender' and count the number of messages\n",
    "sender_counts = table_filtered.groupby('Sender').size().reset_index(name='Message Count')\n",
    "\n",
    "# Step 3: Sort by 'Message Count' in descending order\n",
    "sorted_sender_counts = sender_counts.sort_values(by='Message Count', ascending=False)\n",
    "\n",
    "# Display the results\n",
    "sorted_sender_counts.head(50)\n"
   ]
  },
  {
   "cell_type": "markdown",
   "metadata": {},
   "source": [
    "## Kam aš daugiausiai išsiunčiau žinučių"
   ]
  },
  {
   "cell_type": "code",
   "execution_count": 14,
   "metadata": {},
   "outputs": [
    {
     "data": {
      "text/html": [
       "<div>\n",
       "<style scoped>\n",
       "    .dataframe tbody tr th:only-of-type {\n",
       "        vertical-align: middle;\n",
       "    }\n",
       "\n",
       "    .dataframe tbody tr th {\n",
       "        vertical-align: top;\n",
       "    }\n",
       "\n",
       "    .dataframe thead th {\n",
       "        text-align: right;\n",
       "    }\n",
       "</style>\n",
       "<table border=\"1\" class=\"dataframe\">\n",
       "  <thead>\n",
       "    <tr style=\"text-align: right;\">\n",
       "      <th></th>\n",
       "      <th>Vardas</th>\n",
       "      <th>Kiekis_žinučiu</th>\n",
       "    </tr>\n",
       "  </thead>\n",
       "  <tbody>\n",
       "    <tr>\n",
       "      <th>64</th>\n",
       "      <td>Vaida Štarolytė Lesutiene</td>\n",
       "      <td>3668</td>\n",
       "    </tr>\n",
       "    <tr>\n",
       "      <th>35</th>\n",
       "      <td>Laurynas Antanauskas</td>\n",
       "      <td>3448</td>\n",
       "    </tr>\n",
       "    <tr>\n",
       "      <th>57</th>\n",
       "      <td>Italas Italijoje</td>\n",
       "      <td>2585</td>\n",
       "    </tr>\n",
       "    <tr>\n",
       "      <th>15</th>\n",
       "      <td>Roberta Rėčkuvienė</td>\n",
       "      <td>1232</td>\n",
       "    </tr>\n",
       "    <tr>\n",
       "      <th>14</th>\n",
       "      <td>Stanislovas Dragūnas</td>\n",
       "      <td>1008</td>\n",
       "    </tr>\n",
       "    <tr>\n",
       "      <th>...</th>\n",
       "      <td>...</td>\n",
       "      <td>...</td>\n",
       "    </tr>\n",
       "    <tr>\n",
       "      <th>95</th>\n",
       "      <td>„Facebook“ naudotojas</td>\n",
       "      <td>0</td>\n",
       "    </tr>\n",
       "    <tr>\n",
       "      <th>104</th>\n",
       "      <td>Svetlana Denisova</td>\n",
       "      <td>0</td>\n",
       "    </tr>\n",
       "    <tr>\n",
       "      <th>103</th>\n",
       "      <td>Marius Ūksas</td>\n",
       "      <td>0</td>\n",
       "    </tr>\n",
       "    <tr>\n",
       "      <th>105</th>\n",
       "      <td>Remigijus Genys</td>\n",
       "      <td>0</td>\n",
       "    </tr>\n",
       "    <tr>\n",
       "      <th>107</th>\n",
       "      <td>Hugo Lopes</td>\n",
       "      <td>0</td>\n",
       "    </tr>\n",
       "  </tbody>\n",
       "</table>\n",
       "<p>109 rows × 2 columns</p>\n",
       "</div>"
      ],
      "text/plain": [
       "                        Vardas  Kiekis_žinučiu\n",
       "64   Vaida Štarolytė Lesutiene            3668\n",
       "35        Laurynas Antanauskas            3448\n",
       "57            Italas Italijoje            2585\n",
       "15          Roberta Rėčkuvienė            1232\n",
       "14        Stanislovas Dragūnas            1008\n",
       "..                         ...             ...\n",
       "95       „Facebook“ naudotojas               0\n",
       "104          Svetlana Denisova               0\n",
       "103               Marius Ūksas               0\n",
       "105            Remigijus Genys               0\n",
       "107                 Hugo Lopes               0\n",
       "\n",
       "[109 rows x 2 columns]"
      ]
     },
     "execution_count": 14,
     "metadata": {},
     "output_type": "execute_result"
    }
   ],
   "source": [
    "import json\n",
    "import pandas as pd\n",
    "# Load the JSON file\n",
    "with open('combined_file.json', 'r') as file:\n",
    "    data = json.load(file)\n",
    "\n",
    "\n",
    "suma=[]\n",
    "sumas=0\n",
    "if isinstance(data, list):\n",
    "    for i in range (len(data)-1):\n",
    "        # data = data[i]  # Assuming the JSON is wrapped in a list\n",
    "        for key, value in data[i].items():\n",
    "            if key=='participants':\n",
    "                # print(value[0]['name']).\n",
    "                # suma.append(value[0]['name'])\n",
    "                vardas=value[0]['name'].encode(\"Latin-1\").decode('utf-8')            \n",
    "            if key == \"messages\":\n",
    "                for i in range(len(value)-1):\n",
    "                    # print(key,value[i])\n",
    "                    if value[i]['sender_name']==\"Rimantas Preiksas\":\n",
    "                        sumas+=1\n",
    "                # suma.append(sumas)\n",
    "\n",
    "                tupl=(vardas,sumas)\n",
    "                suma.append(tupl)\n",
    "                sumas=0\n",
    "\n",
    "as_issiuntes_daugiausiai=pd.DataFrame(suma,columns=[\"Vardas\",\"Kiekis_žinučiu\"])\n",
    "as_issiuntes_daugiausiai.sort_values('Kiekis_žinučiu', ascending=False).head(20).to_csv(\"kam_as_issiunciau_daugiausiai_zinnuciu.csv\")\n",
    "as_issiuntes_daugiausiai.sort_values('Kiekis_žinučiu', ascending=False)\n",
    "\n"
   ]
  },
  {
   "cell_type": "markdown",
   "metadata": {},
   "source": [
    "# TF-IDF"
   ]
  },
  {
   "cell_type": "code",
   "execution_count": 15,
   "metadata": {},
   "outputs": [
    {
     "name": "stdout",
     "output_type": "stream",
     "text": [
      "       and      best   burgers       can    decide  delicious    dinner  \\\n",
      "0  0.00000  0.443274  0.000000  0.000000  0.000000    0.00000  0.000000   \n",
      "1  0.00000  0.000000  0.399540  0.506765  0.506765    0.00000  0.000000   \n",
      "2  0.00000  0.000000  0.300276  0.000000  0.000000    0.00000  0.380862   \n",
      "3  0.37082  0.000000  0.000000  0.000000  0.000000    0.37082  0.000000   \n",
      "\n",
      "        for      had        is       it     last      love     lunch    night  \\\n",
      "0  0.000000  0.00000  0.443274  0.00000  0.00000  0.443274  0.000000  0.00000   \n",
      "1  0.000000  0.00000  0.000000  0.00000  0.00000  0.000000  0.000000  0.00000   \n",
      "2  0.761723  0.00000  0.000000  0.00000  0.00000  0.000000  0.380862  0.00000   \n",
      "3  0.000000  0.37082  0.000000  0.37082  0.37082  0.000000  0.000000  0.37082   \n",
      "\n",
      "         or     pizza       the      was  \n",
      "0  0.000000  0.462637  0.443274  0.00000  \n",
      "1  0.506765  0.264451  0.000000  0.00000  \n",
      "2  0.000000  0.198749  0.000000  0.00000  \n",
      "3  0.000000  0.193509  0.000000  0.37082  \n"
     ]
    }
   ],
   "source": [
    "from sklearn.feature_extraction.text import TfidfVectorizer\n",
    "import pandas as pd\n",
    "\n",
    "# Sample documents\n",
    "documents = [\n",
    "    \"I love pizza. Pizza is the best!\",\n",
    "    \"Pizza or burgers? I can't decide.\",\n",
    "    \"Pizza for dinner, burgers for lunch.\",\n",
    "    \"I had pizza last night, and it was delicious!\"\n",
    "]\n",
    "# with open('visos_zinutes.txt', 'r', encoding='utf-8') as file:\n",
    "#     documents = file.readlines()\n",
    "\n",
    "# Initialize TfidfVectorizer\n",
    "vectorizer = TfidfVectorizer()\n",
    "\n",
    "# Fit and transform the documents to get the TF-IDF matrix\n",
    "tfidf_matrix = vectorizer.fit_transform(documents)\n",
    "\n",
    "# Convert the TF-IDF matrix to a pandas DataFrame for better visualization\n",
    "tfidf_df = pd.DataFrame(tfidf_matrix.toarray(), columns=vectorizer.get_feature_names_out())[:10]\n",
    "\n",
    "print(tfidf_df)"
   ]
  },
  {
   "cell_type": "markdown",
   "metadata": {},
   "source": [
    "Mano žinuciu analize"
   ]
  },
  {
   "cell_type": "code",
   "execution_count": 16,
   "metadata": {},
   "outputs": [
    {
     "data": {
      "text/html": [
       "<div>\n",
       "<style scoped>\n",
       "    .dataframe tbody tr th:only-of-type {\n",
       "        vertical-align: middle;\n",
       "    }\n",
       "\n",
       "    .dataframe tbody tr th {\n",
       "        vertical-align: top;\n",
       "    }\n",
       "\n",
       "    .dataframe thead th {\n",
       "        text-align: right;\n",
       "    }\n",
       "</style>\n",
       "<table border=\"1\" class=\"dataframe\">\n",
       "  <thead>\n",
       "    <tr style=\"text-align: right;\">\n",
       "      <th></th>\n",
       "      <th>Sender</th>\n",
       "      <th>TimeStamp</th>\n",
       "      <th>Message</th>\n",
       "      <th>Kalba</th>\n",
       "      <th>Message_Length</th>\n",
       "    </tr>\n",
       "  </thead>\n",
       "  <tbody>\n",
       "    <tr>\n",
       "      <th>0</th>\n",
       "      <td>Rimantas Preiksas</td>\n",
       "      <td>2017-10-03 18:55:54.249</td>\n",
       "      <td>Dabar esate prisijungę prie „Messenger“</td>\n",
       "      <td>de</td>\n",
       "      <td>39.0</td>\n",
       "    </tr>\n",
       "    <tr>\n",
       "      <th>3</th>\n",
       "      <td>Rimantas Preiksas</td>\n",
       "      <td>2017-10-03 21:14:25.318</td>\n",
       "      <td>Normaliai, o kaip tau?</td>\n",
       "      <td>lt</td>\n",
       "      <td>22.0</td>\n",
       "    </tr>\n",
       "    <tr>\n",
       "      <th>4</th>\n",
       "      <td>Rimantas Preiksas</td>\n",
       "      <td>2017-10-03 21:14:56.407</td>\n",
       "      <td>Jūs pamojavote Mantas!</td>\n",
       "      <td>lt</td>\n",
       "      <td>22.0</td>\n",
       "    </tr>\n",
       "    <tr>\n",
       "      <th>5</th>\n",
       "      <td>Rimantas Preiksas</td>\n",
       "      <td>2017-10-03 21:15:03.270</td>\n",
       "      <td>You added Mantas Mantinis on Messenger.</td>\n",
       "      <td>en</td>\n",
       "      <td>39.0</td>\n",
       "    </tr>\n",
       "    <tr>\n",
       "      <th>6</th>\n",
       "      <td>Rimantas Preiksas</td>\n",
       "      <td>2017-10-03 21:15:15.798</td>\n",
       "      <td>Ka tu zuiki?</td>\n",
       "      <td>sw</td>\n",
       "      <td>12.0</td>\n",
       "    </tr>\n",
       "    <tr>\n",
       "      <th>...</th>\n",
       "      <td>...</td>\n",
       "      <td>...</td>\n",
       "      <td>...</td>\n",
       "      <td>...</td>\n",
       "      <td>...</td>\n",
       "    </tr>\n",
       "    <tr>\n",
       "      <th>37720</th>\n",
       "      <td>Rimantas Preiksas</td>\n",
       "      <td>2024-08-19 18:15:40.725</td>\n",
       "      <td>Ačiū :)</td>\n",
       "      <td>lt</td>\n",
       "      <td>7.0</td>\n",
       "    </tr>\n",
       "    <tr>\n",
       "      <th>37721</th>\n",
       "      <td>Rimantas Preiksas</td>\n",
       "      <td>2024-08-19 18:16:18.438</td>\n",
       "      <td>Ačiū.</td>\n",
       "      <td>lt</td>\n",
       "      <td>5.0</td>\n",
       "    </tr>\n",
       "    <tr>\n",
       "      <th>37722</th>\n",
       "      <td>Rimantas Preiksas</td>\n",
       "      <td>2024-08-19 18:16:23.345</td>\n",
       "      <td>:)</td>\n",
       "      <td>unknown</td>\n",
       "      <td>2.0</td>\n",
       "    </tr>\n",
       "    <tr>\n",
       "      <th>37723</th>\n",
       "      <td>Rimantas Preiksas</td>\n",
       "      <td>2024-08-19 18:17:45.568</td>\n",
       "      <td>Ačiū :)</td>\n",
       "      <td>lt</td>\n",
       "      <td>7.0</td>\n",
       "    </tr>\n",
       "    <tr>\n",
       "      <th>37724</th>\n",
       "      <td>Rimantas Preiksas</td>\n",
       "      <td>2024-08-19 18:18:22.842</td>\n",
       "      <td>AČIŪ :)</td>\n",
       "      <td>tl</td>\n",
       "      <td>7.0</td>\n",
       "    </tr>\n",
       "  </tbody>\n",
       "</table>\n",
       "<p>21474 rows × 5 columns</p>\n",
       "</div>"
      ],
      "text/plain": [
       "                  Sender                TimeStamp  \\\n",
       "0      Rimantas Preiksas  2017-10-03 18:55:54.249   \n",
       "3      Rimantas Preiksas  2017-10-03 21:14:25.318   \n",
       "4      Rimantas Preiksas  2017-10-03 21:14:56.407   \n",
       "5      Rimantas Preiksas  2017-10-03 21:15:03.270   \n",
       "6      Rimantas Preiksas  2017-10-03 21:15:15.798   \n",
       "...                  ...                      ...   \n",
       "37720  Rimantas Preiksas  2024-08-19 18:15:40.725   \n",
       "37721  Rimantas Preiksas  2024-08-19 18:16:18.438   \n",
       "37722  Rimantas Preiksas  2024-08-19 18:16:23.345   \n",
       "37723  Rimantas Preiksas  2024-08-19 18:17:45.568   \n",
       "37724  Rimantas Preiksas  2024-08-19 18:18:22.842   \n",
       "\n",
       "                                       Message    Kalba  Message_Length  \n",
       "0      Dabar esate prisijungę prie „Messenger“       de            39.0  \n",
       "3                       Normaliai, o kaip tau?       lt            22.0  \n",
       "4                       Jūs pamojavote Mantas!       lt            22.0  \n",
       "5      You added Mantas Mantinis on Messenger.       en            39.0  \n",
       "6                                 Ka tu zuiki?       sw            12.0  \n",
       "...                                        ...      ...             ...  \n",
       "37720                                  Ačiū :)       lt             7.0  \n",
       "37721                                    Ačiū.       lt             5.0  \n",
       "37722                                       :)  unknown             2.0  \n",
       "37723                                  Ačiū :)       lt             7.0  \n",
       "37724                                  AČIŪ :)       tl             7.0  \n",
       "\n",
       "[21474 rows x 5 columns]"
      ]
     },
     "execution_count": 16,
     "metadata": {},
     "output_type": "execute_result"
    }
   ],
   "source": [
    "mano_zinutes=table_sorted[table_sorted[\"Sender\"]==\"Rimantas Preiksas\"];mano_zinutes\n"
   ]
  },
  {
   "cell_type": "code",
   "execution_count": 17,
   "metadata": {},
   "outputs": [
    {
     "name": "stderr",
     "output_type": "stream",
     "text": [
      "/var/folders/cd/dg0fgs8j0k5d0nrc119x27vh0000gn/T/ipykernel_11269/1948393154.py:5: SettingWithCopyWarning: \n",
      "A value is trying to be set on a copy of a slice from a DataFrame.\n",
      "Try using .loc[row_indexer,col_indexer] = value instead\n",
      "\n",
      "See the caveats in the documentation: https://pandas.pydata.org/pandas-docs/stable/user_guide/indexing.html#returning-a-view-versus-a-copy\n",
      "  mano_zinutes['TimeStamp'] = pd.to_datetime(mano_zinutes['TimeStamp'])\n",
      "/var/folders/cd/dg0fgs8j0k5d0nrc119x27vh0000gn/T/ipykernel_11269/1948393154.py:6: SettingWithCopyWarning: \n",
      "A value is trying to be set on a copy of a slice from a DataFrame.\n",
      "Try using .loc[row_indexer,col_indexer] = value instead\n",
      "\n",
      "See the caveats in the documentation: https://pandas.pydata.org/pandas-docs/stable/user_guide/indexing.html#returning-a-view-versus-a-copy\n",
      "  mano_zinutes[\"Metai\"] = mano_zinutes['TimeStamp'].dt.year\n"
     ]
    },
    {
     "data": {
      "application/vnd.plotly.v1+json": {
       "config": {
        "plotlyServerURL": "https://plot.ly"
       },
       "data": [
        {
         "alignmentgroup": "True",
         "hovertemplate": "Metai=%{marker.color}<br>Message_Count=%{y}<extra></extra>",
         "legendgroup": "",
         "marker": {
          "color": [
           2017,
           2018,
           2019,
           2020,
           2021,
           2022,
           2023,
           2024
          ],
          "coloraxis": "coloraxis",
          "pattern": {
           "shape": ""
          }
         },
         "name": "",
         "offsetgroup": "",
         "orientation": "v",
         "showlegend": false,
         "textposition": "auto",
         "type": "bar",
         "x": [
          2017,
          2018,
          2019,
          2020,
          2021,
          2022,
          2023,
          2024
         ],
         "xaxis": "x",
         "y": [
          140,
          563,
          1796,
          4658,
          4747,
          4369,
          4293,
          908
         ],
         "yaxis": "y"
        }
       ],
       "layout": {
        "barmode": "relative",
        "coloraxis": {
         "colorbar": {
          "title": {
           "text": "Metai"
          }
         },
         "colorscale": [
          [
           0,
           "#0d0887"
          ],
          [
           0.1111111111111111,
           "#46039f"
          ],
          [
           0.2222222222222222,
           "#7201a8"
          ],
          [
           0.3333333333333333,
           "#9c179e"
          ],
          [
           0.4444444444444444,
           "#bd3786"
          ],
          [
           0.5555555555555556,
           "#d8576b"
          ],
          [
           0.6666666666666666,
           "#ed7953"
          ],
          [
           0.7777777777777778,
           "#fb9f3a"
          ],
          [
           0.8888888888888888,
           "#fdca26"
          ],
          [
           1,
           "#f0f921"
          ]
         ]
        },
        "legend": {
         "tracegroupgap": 0
        },
        "margin": {
         "t": 60
        },
        "template": {
         "data": {
          "bar": [
           {
            "error_x": {
             "color": "#2a3f5f"
            },
            "error_y": {
             "color": "#2a3f5f"
            },
            "marker": {
             "line": {
              "color": "#E5ECF6",
              "width": 0.5
             },
             "pattern": {
              "fillmode": "overlay",
              "size": 10,
              "solidity": 0.2
             }
            },
            "type": "bar"
           }
          ],
          "barpolar": [
           {
            "marker": {
             "line": {
              "color": "#E5ECF6",
              "width": 0.5
             },
             "pattern": {
              "fillmode": "overlay",
              "size": 10,
              "solidity": 0.2
             }
            },
            "type": "barpolar"
           }
          ],
          "carpet": [
           {
            "aaxis": {
             "endlinecolor": "#2a3f5f",
             "gridcolor": "white",
             "linecolor": "white",
             "minorgridcolor": "white",
             "startlinecolor": "#2a3f5f"
            },
            "baxis": {
             "endlinecolor": "#2a3f5f",
             "gridcolor": "white",
             "linecolor": "white",
             "minorgridcolor": "white",
             "startlinecolor": "#2a3f5f"
            },
            "type": "carpet"
           }
          ],
          "choropleth": [
           {
            "colorbar": {
             "outlinewidth": 0,
             "ticks": ""
            },
            "type": "choropleth"
           }
          ],
          "contour": [
           {
            "colorbar": {
             "outlinewidth": 0,
             "ticks": ""
            },
            "colorscale": [
             [
              0,
              "#0d0887"
             ],
             [
              0.1111111111111111,
              "#46039f"
             ],
             [
              0.2222222222222222,
              "#7201a8"
             ],
             [
              0.3333333333333333,
              "#9c179e"
             ],
             [
              0.4444444444444444,
              "#bd3786"
             ],
             [
              0.5555555555555556,
              "#d8576b"
             ],
             [
              0.6666666666666666,
              "#ed7953"
             ],
             [
              0.7777777777777778,
              "#fb9f3a"
             ],
             [
              0.8888888888888888,
              "#fdca26"
             ],
             [
              1,
              "#f0f921"
             ]
            ],
            "type": "contour"
           }
          ],
          "contourcarpet": [
           {
            "colorbar": {
             "outlinewidth": 0,
             "ticks": ""
            },
            "type": "contourcarpet"
           }
          ],
          "heatmap": [
           {
            "colorbar": {
             "outlinewidth": 0,
             "ticks": ""
            },
            "colorscale": [
             [
              0,
              "#0d0887"
             ],
             [
              0.1111111111111111,
              "#46039f"
             ],
             [
              0.2222222222222222,
              "#7201a8"
             ],
             [
              0.3333333333333333,
              "#9c179e"
             ],
             [
              0.4444444444444444,
              "#bd3786"
             ],
             [
              0.5555555555555556,
              "#d8576b"
             ],
             [
              0.6666666666666666,
              "#ed7953"
             ],
             [
              0.7777777777777778,
              "#fb9f3a"
             ],
             [
              0.8888888888888888,
              "#fdca26"
             ],
             [
              1,
              "#f0f921"
             ]
            ],
            "type": "heatmap"
           }
          ],
          "heatmapgl": [
           {
            "colorbar": {
             "outlinewidth": 0,
             "ticks": ""
            },
            "colorscale": [
             [
              0,
              "#0d0887"
             ],
             [
              0.1111111111111111,
              "#46039f"
             ],
             [
              0.2222222222222222,
              "#7201a8"
             ],
             [
              0.3333333333333333,
              "#9c179e"
             ],
             [
              0.4444444444444444,
              "#bd3786"
             ],
             [
              0.5555555555555556,
              "#d8576b"
             ],
             [
              0.6666666666666666,
              "#ed7953"
             ],
             [
              0.7777777777777778,
              "#fb9f3a"
             ],
             [
              0.8888888888888888,
              "#fdca26"
             ],
             [
              1,
              "#f0f921"
             ]
            ],
            "type": "heatmapgl"
           }
          ],
          "histogram": [
           {
            "marker": {
             "pattern": {
              "fillmode": "overlay",
              "size": 10,
              "solidity": 0.2
             }
            },
            "type": "histogram"
           }
          ],
          "histogram2d": [
           {
            "colorbar": {
             "outlinewidth": 0,
             "ticks": ""
            },
            "colorscale": [
             [
              0,
              "#0d0887"
             ],
             [
              0.1111111111111111,
              "#46039f"
             ],
             [
              0.2222222222222222,
              "#7201a8"
             ],
             [
              0.3333333333333333,
              "#9c179e"
             ],
             [
              0.4444444444444444,
              "#bd3786"
             ],
             [
              0.5555555555555556,
              "#d8576b"
             ],
             [
              0.6666666666666666,
              "#ed7953"
             ],
             [
              0.7777777777777778,
              "#fb9f3a"
             ],
             [
              0.8888888888888888,
              "#fdca26"
             ],
             [
              1,
              "#f0f921"
             ]
            ],
            "type": "histogram2d"
           }
          ],
          "histogram2dcontour": [
           {
            "colorbar": {
             "outlinewidth": 0,
             "ticks": ""
            },
            "colorscale": [
             [
              0,
              "#0d0887"
             ],
             [
              0.1111111111111111,
              "#46039f"
             ],
             [
              0.2222222222222222,
              "#7201a8"
             ],
             [
              0.3333333333333333,
              "#9c179e"
             ],
             [
              0.4444444444444444,
              "#bd3786"
             ],
             [
              0.5555555555555556,
              "#d8576b"
             ],
             [
              0.6666666666666666,
              "#ed7953"
             ],
             [
              0.7777777777777778,
              "#fb9f3a"
             ],
             [
              0.8888888888888888,
              "#fdca26"
             ],
             [
              1,
              "#f0f921"
             ]
            ],
            "type": "histogram2dcontour"
           }
          ],
          "mesh3d": [
           {
            "colorbar": {
             "outlinewidth": 0,
             "ticks": ""
            },
            "type": "mesh3d"
           }
          ],
          "parcoords": [
           {
            "line": {
             "colorbar": {
              "outlinewidth": 0,
              "ticks": ""
             }
            },
            "type": "parcoords"
           }
          ],
          "pie": [
           {
            "automargin": true,
            "type": "pie"
           }
          ],
          "scatter": [
           {
            "fillpattern": {
             "fillmode": "overlay",
             "size": 10,
             "solidity": 0.2
            },
            "type": "scatter"
           }
          ],
          "scatter3d": [
           {
            "line": {
             "colorbar": {
              "outlinewidth": 0,
              "ticks": ""
             }
            },
            "marker": {
             "colorbar": {
              "outlinewidth": 0,
              "ticks": ""
             }
            },
            "type": "scatter3d"
           }
          ],
          "scattercarpet": [
           {
            "marker": {
             "colorbar": {
              "outlinewidth": 0,
              "ticks": ""
             }
            },
            "type": "scattercarpet"
           }
          ],
          "scattergeo": [
           {
            "marker": {
             "colorbar": {
              "outlinewidth": 0,
              "ticks": ""
             }
            },
            "type": "scattergeo"
           }
          ],
          "scattergl": [
           {
            "marker": {
             "colorbar": {
              "outlinewidth": 0,
              "ticks": ""
             }
            },
            "type": "scattergl"
           }
          ],
          "scattermapbox": [
           {
            "marker": {
             "colorbar": {
              "outlinewidth": 0,
              "ticks": ""
             }
            },
            "type": "scattermapbox"
           }
          ],
          "scatterpolar": [
           {
            "marker": {
             "colorbar": {
              "outlinewidth": 0,
              "ticks": ""
             }
            },
            "type": "scatterpolar"
           }
          ],
          "scatterpolargl": [
           {
            "marker": {
             "colorbar": {
              "outlinewidth": 0,
              "ticks": ""
             }
            },
            "type": "scatterpolargl"
           }
          ],
          "scatterternary": [
           {
            "marker": {
             "colorbar": {
              "outlinewidth": 0,
              "ticks": ""
             }
            },
            "type": "scatterternary"
           }
          ],
          "surface": [
           {
            "colorbar": {
             "outlinewidth": 0,
             "ticks": ""
            },
            "colorscale": [
             [
              0,
              "#0d0887"
             ],
             [
              0.1111111111111111,
              "#46039f"
             ],
             [
              0.2222222222222222,
              "#7201a8"
             ],
             [
              0.3333333333333333,
              "#9c179e"
             ],
             [
              0.4444444444444444,
              "#bd3786"
             ],
             [
              0.5555555555555556,
              "#d8576b"
             ],
             [
              0.6666666666666666,
              "#ed7953"
             ],
             [
              0.7777777777777778,
              "#fb9f3a"
             ],
             [
              0.8888888888888888,
              "#fdca26"
             ],
             [
              1,
              "#f0f921"
             ]
            ],
            "type": "surface"
           }
          ],
          "table": [
           {
            "cells": {
             "fill": {
              "color": "#EBF0F8"
             },
             "line": {
              "color": "white"
             }
            },
            "header": {
             "fill": {
              "color": "#C8D4E3"
             },
             "line": {
              "color": "white"
             }
            },
            "type": "table"
           }
          ]
         },
         "layout": {
          "annotationdefaults": {
           "arrowcolor": "#2a3f5f",
           "arrowhead": 0,
           "arrowwidth": 1
          },
          "autotypenumbers": "strict",
          "coloraxis": {
           "colorbar": {
            "outlinewidth": 0,
            "ticks": ""
           }
          },
          "colorscale": {
           "diverging": [
            [
             0,
             "#8e0152"
            ],
            [
             0.1,
             "#c51b7d"
            ],
            [
             0.2,
             "#de77ae"
            ],
            [
             0.3,
             "#f1b6da"
            ],
            [
             0.4,
             "#fde0ef"
            ],
            [
             0.5,
             "#f7f7f7"
            ],
            [
             0.6,
             "#e6f5d0"
            ],
            [
             0.7,
             "#b8e186"
            ],
            [
             0.8,
             "#7fbc41"
            ],
            [
             0.9,
             "#4d9221"
            ],
            [
             1,
             "#276419"
            ]
           ],
           "sequential": [
            [
             0,
             "#0d0887"
            ],
            [
             0.1111111111111111,
             "#46039f"
            ],
            [
             0.2222222222222222,
             "#7201a8"
            ],
            [
             0.3333333333333333,
             "#9c179e"
            ],
            [
             0.4444444444444444,
             "#bd3786"
            ],
            [
             0.5555555555555556,
             "#d8576b"
            ],
            [
             0.6666666666666666,
             "#ed7953"
            ],
            [
             0.7777777777777778,
             "#fb9f3a"
            ],
            [
             0.8888888888888888,
             "#fdca26"
            ],
            [
             1,
             "#f0f921"
            ]
           ],
           "sequentialminus": [
            [
             0,
             "#0d0887"
            ],
            [
             0.1111111111111111,
             "#46039f"
            ],
            [
             0.2222222222222222,
             "#7201a8"
            ],
            [
             0.3333333333333333,
             "#9c179e"
            ],
            [
             0.4444444444444444,
             "#bd3786"
            ],
            [
             0.5555555555555556,
             "#d8576b"
            ],
            [
             0.6666666666666666,
             "#ed7953"
            ],
            [
             0.7777777777777778,
             "#fb9f3a"
            ],
            [
             0.8888888888888888,
             "#fdca26"
            ],
            [
             1,
             "#f0f921"
            ]
           ]
          },
          "colorway": [
           "#636efa",
           "#EF553B",
           "#00cc96",
           "#ab63fa",
           "#FFA15A",
           "#19d3f3",
           "#FF6692",
           "#B6E880",
           "#FF97FF",
           "#FECB52"
          ],
          "font": {
           "color": "#2a3f5f"
          },
          "geo": {
           "bgcolor": "white",
           "lakecolor": "white",
           "landcolor": "#E5ECF6",
           "showlakes": true,
           "showland": true,
           "subunitcolor": "white"
          },
          "hoverlabel": {
           "align": "left"
          },
          "hovermode": "closest",
          "mapbox": {
           "style": "light"
          },
          "paper_bgcolor": "white",
          "plot_bgcolor": "#E5ECF6",
          "polar": {
           "angularaxis": {
            "gridcolor": "white",
            "linecolor": "white",
            "ticks": ""
           },
           "bgcolor": "#E5ECF6",
           "radialaxis": {
            "gridcolor": "white",
            "linecolor": "white",
            "ticks": ""
           }
          },
          "scene": {
           "xaxis": {
            "backgroundcolor": "#E5ECF6",
            "gridcolor": "white",
            "gridwidth": 2,
            "linecolor": "white",
            "showbackground": true,
            "ticks": "",
            "zerolinecolor": "white"
           },
           "yaxis": {
            "backgroundcolor": "#E5ECF6",
            "gridcolor": "white",
            "gridwidth": 2,
            "linecolor": "white",
            "showbackground": true,
            "ticks": "",
            "zerolinecolor": "white"
           },
           "zaxis": {
            "backgroundcolor": "#E5ECF6",
            "gridcolor": "white",
            "gridwidth": 2,
            "linecolor": "white",
            "showbackground": true,
            "ticks": "",
            "zerolinecolor": "white"
           }
          },
          "shapedefaults": {
           "line": {
            "color": "#2a3f5f"
           }
          },
          "ternary": {
           "aaxis": {
            "gridcolor": "white",
            "linecolor": "white",
            "ticks": ""
           },
           "baxis": {
            "gridcolor": "white",
            "linecolor": "white",
            "ticks": ""
           },
           "bgcolor": "#E5ECF6",
           "caxis": {
            "gridcolor": "white",
            "linecolor": "white",
            "ticks": ""
           }
          },
          "title": {
           "x": 0.05
          },
          "xaxis": {
           "automargin": true,
           "gridcolor": "white",
           "linecolor": "white",
           "ticks": "",
           "title": {
            "standoff": 15
           },
           "zerolinecolor": "white",
           "zerolinewidth": 2
          },
          "yaxis": {
           "automargin": true,
           "gridcolor": "white",
           "linecolor": "white",
           "ticks": "",
           "title": {
            "standoff": 15
           },
           "zerolinecolor": "white",
           "zerolinewidth": 2
          }
         }
        },
        "xaxis": {
         "anchor": "y",
         "domain": [
          0,
          1
         ],
         "title": {
          "text": "Metai"
         }
        },
        "yaxis": {
         "anchor": "x",
         "domain": [
          0,
          1
         ],
         "title": {
          "text": "Message_Count"
         }
        }
       }
      }
     },
     "metadata": {},
     "output_type": "display_data"
    },
    {
     "name": "stdout",
     "output_type": "stream",
     "text": [
      "   Metai  Message_Count\n",
      "0   2017            140\n",
      "1   2018            563\n",
      "2   2019           1796\n",
      "3   2020           4658\n",
      "4   2021           4747\n",
      "5   2022           4369\n",
      "6   2023           4293\n",
      "7   2024            908\n"
     ]
    }
   ],
   "source": [
    "import plotly.express as px\n",
    "import plotly.graph_objects as go\n",
    "import plotly.express as px\n",
    "\n",
    "mano_zinutes['TimeStamp'] = pd.to_datetime(mano_zinutes['TimeStamp'])\n",
    "mano_zinutes[\"Metai\"] = mano_zinutes['TimeStamp'].dt.year\n",
    "\n",
    "\n",
    "\n",
    "\n",
    "# fig = px.bar(mano_zinutes, x=\"Metai\")\n",
    "\n",
    "# # Show the plot\n",
    "# fig.show()\n",
    "sugrupuoti_metai=mano_zinutes.groupby('Metai').size().reset_index(name='Message_Count')\n",
    "# grouped = df.groupby('metai')['eklementas'].apply(list).reset_index()\n",
    "\n",
    "\n",
    "fig = px.bar(sugrupuoti_metai, x=\"Metai\", y='Message_Count', color=\"Metai\")\n",
    "\n",
    "# Show the plot\n",
    "fig.show()\n",
    "print(sugrupuoti_metai)"
   ]
  },
  {
   "cell_type": "code",
   "execution_count": 18,
   "metadata": {},
   "outputs": [
    {
     "name": "stderr",
     "output_type": "stream",
     "text": [
      "/var/folders/cd/dg0fgs8j0k5d0nrc119x27vh0000gn/T/ipykernel_11269/3170777354.py:5: SettingWithCopyWarning:\n",
      "\n",
      "\n",
      "A value is trying to be set on a copy of a slice from a DataFrame.\n",
      "Try using .loc[row_indexer,col_indexer] = value instead\n",
      "\n",
      "See the caveats in the documentation: https://pandas.pydata.org/pandas-docs/stable/user_guide/indexing.html#returning-a-view-versus-a-copy\n",
      "\n",
      "/var/folders/cd/dg0fgs8j0k5d0nrc119x27vh0000gn/T/ipykernel_11269/3170777354.py:6: SettingWithCopyWarning:\n",
      "\n",
      "\n",
      "A value is trying to be set on a copy of a slice from a DataFrame.\n",
      "Try using .loc[row_indexer,col_indexer] = value instead\n",
      "\n",
      "See the caveats in the documentation: https://pandas.pydata.org/pandas-docs/stable/user_guide/indexing.html#returning-a-view-versus-a-copy\n",
      "\n"
     ]
    },
    {
     "data": {
      "application/vnd.plotly.v1+json": {
       "config": {
        "plotlyServerURL": "https://plot.ly"
       },
       "data": [
        {
         "alignmentgroup": "True",
         "hovertemplate": "MetaiMenuo=%{x}<br>MetaiMenuo_Count=%{y}<extra></extra>",
         "legendgroup": "2017.10",
         "marker": {
          "color": "#636efa",
          "pattern": {
           "shape": ""
          }
         },
         "name": "2017.10",
         "offsetgroup": "2017.10",
         "orientation": "v",
         "showlegend": true,
         "textposition": "auto",
         "type": "bar",
         "x": [
          "2017.10"
         ],
         "xaxis": "x",
         "y": [
          53
         ],
         "yaxis": "y"
        },
        {
         "alignmentgroup": "True",
         "hovertemplate": "MetaiMenuo=%{x}<br>MetaiMenuo_Count=%{y}<extra></extra>",
         "legendgroup": "2017.11",
         "marker": {
          "color": "#EF553B",
          "pattern": {
           "shape": ""
          }
         },
         "name": "2017.11",
         "offsetgroup": "2017.11",
         "orientation": "v",
         "showlegend": true,
         "textposition": "auto",
         "type": "bar",
         "x": [
          "2017.11"
         ],
         "xaxis": "x",
         "y": [
          17
         ],
         "yaxis": "y"
        },
        {
         "alignmentgroup": "True",
         "hovertemplate": "MetaiMenuo=%{x}<br>MetaiMenuo_Count=%{y}<extra></extra>",
         "legendgroup": "2017.12",
         "marker": {
          "color": "#00cc96",
          "pattern": {
           "shape": ""
          }
         },
         "name": "2017.12",
         "offsetgroup": "2017.12",
         "orientation": "v",
         "showlegend": true,
         "textposition": "auto",
         "type": "bar",
         "x": [
          "2017.12"
         ],
         "xaxis": "x",
         "y": [
          70
         ],
         "yaxis": "y"
        },
        {
         "alignmentgroup": "True",
         "hovertemplate": "MetaiMenuo=%{x}<br>MetaiMenuo_Count=%{y}<extra></extra>",
         "legendgroup": "2018.01",
         "marker": {
          "color": "#ab63fa",
          "pattern": {
           "shape": ""
          }
         },
         "name": "2018.01",
         "offsetgroup": "2018.01",
         "orientation": "v",
         "showlegend": true,
         "textposition": "auto",
         "type": "bar",
         "x": [
          "2018.01"
         ],
         "xaxis": "x",
         "y": [
          57
         ],
         "yaxis": "y"
        },
        {
         "alignmentgroup": "True",
         "hovertemplate": "MetaiMenuo=%{x}<br>MetaiMenuo_Count=%{y}<extra></extra>",
         "legendgroup": "2018.03",
         "marker": {
          "color": "#FFA15A",
          "pattern": {
           "shape": ""
          }
         },
         "name": "2018.03",
         "offsetgroup": "2018.03",
         "orientation": "v",
         "showlegend": true,
         "textposition": "auto",
         "type": "bar",
         "x": [
          "2018.03"
         ],
         "xaxis": "x",
         "y": [
          1
         ],
         "yaxis": "y"
        },
        {
         "alignmentgroup": "True",
         "hovertemplate": "MetaiMenuo=%{x}<br>MetaiMenuo_Count=%{y}<extra></extra>",
         "legendgroup": "2018.04",
         "marker": {
          "color": "#19d3f3",
          "pattern": {
           "shape": ""
          }
         },
         "name": "2018.04",
         "offsetgroup": "2018.04",
         "orientation": "v",
         "showlegend": true,
         "textposition": "auto",
         "type": "bar",
         "x": [
          "2018.04"
         ],
         "xaxis": "x",
         "y": [
          6
         ],
         "yaxis": "y"
        },
        {
         "alignmentgroup": "True",
         "hovertemplate": "MetaiMenuo=%{x}<br>MetaiMenuo_Count=%{y}<extra></extra>",
         "legendgroup": "2018.06",
         "marker": {
          "color": "#FF6692",
          "pattern": {
           "shape": ""
          }
         },
         "name": "2018.06",
         "offsetgroup": "2018.06",
         "orientation": "v",
         "showlegend": true,
         "textposition": "auto",
         "type": "bar",
         "x": [
          "2018.06"
         ],
         "xaxis": "x",
         "y": [
          3
         ],
         "yaxis": "y"
        },
        {
         "alignmentgroup": "True",
         "hovertemplate": "MetaiMenuo=%{x}<br>MetaiMenuo_Count=%{y}<extra></extra>",
         "legendgroup": "2018.07",
         "marker": {
          "color": "#B6E880",
          "pattern": {
           "shape": ""
          }
         },
         "name": "2018.07",
         "offsetgroup": "2018.07",
         "orientation": "v",
         "showlegend": true,
         "textposition": "auto",
         "type": "bar",
         "x": [
          "2018.07"
         ],
         "xaxis": "x",
         "y": [
          287
         ],
         "yaxis": "y"
        },
        {
         "alignmentgroup": "True",
         "hovertemplate": "MetaiMenuo=%{x}<br>MetaiMenuo_Count=%{y}<extra></extra>",
         "legendgroup": "2018.08",
         "marker": {
          "color": "#FF97FF",
          "pattern": {
           "shape": ""
          }
         },
         "name": "2018.08",
         "offsetgroup": "2018.08",
         "orientation": "v",
         "showlegend": true,
         "textposition": "auto",
         "type": "bar",
         "x": [
          "2018.08"
         ],
         "xaxis": "x",
         "y": [
          80
         ],
         "yaxis": "y"
        },
        {
         "alignmentgroup": "True",
         "hovertemplate": "MetaiMenuo=%{x}<br>MetaiMenuo_Count=%{y}<extra></extra>",
         "legendgroup": "2018.09",
         "marker": {
          "color": "#FECB52",
          "pattern": {
           "shape": ""
          }
         },
         "name": "2018.09",
         "offsetgroup": "2018.09",
         "orientation": "v",
         "showlegend": true,
         "textposition": "auto",
         "type": "bar",
         "x": [
          "2018.09"
         ],
         "xaxis": "x",
         "y": [
          50
         ],
         "yaxis": "y"
        },
        {
         "alignmentgroup": "True",
         "hovertemplate": "MetaiMenuo=%{x}<br>MetaiMenuo_Count=%{y}<extra></extra>",
         "legendgroup": "2018.10",
         "marker": {
          "color": "#636efa",
          "pattern": {
           "shape": ""
          }
         },
         "name": "2018.10",
         "offsetgroup": "2018.10",
         "orientation": "v",
         "showlegend": true,
         "textposition": "auto",
         "type": "bar",
         "x": [
          "2018.10"
         ],
         "xaxis": "x",
         "y": [
          9
         ],
         "yaxis": "y"
        },
        {
         "alignmentgroup": "True",
         "hovertemplate": "MetaiMenuo=%{x}<br>MetaiMenuo_Count=%{y}<extra></extra>",
         "legendgroup": "2018.11",
         "marker": {
          "color": "#EF553B",
          "pattern": {
           "shape": ""
          }
         },
         "name": "2018.11",
         "offsetgroup": "2018.11",
         "orientation": "v",
         "showlegend": true,
         "textposition": "auto",
         "type": "bar",
         "x": [
          "2018.11"
         ],
         "xaxis": "x",
         "y": [
          28
         ],
         "yaxis": "y"
        },
        {
         "alignmentgroup": "True",
         "hovertemplate": "MetaiMenuo=%{x}<br>MetaiMenuo_Count=%{y}<extra></extra>",
         "legendgroup": "2018.12",
         "marker": {
          "color": "#00cc96",
          "pattern": {
           "shape": ""
          }
         },
         "name": "2018.12",
         "offsetgroup": "2018.12",
         "orientation": "v",
         "showlegend": true,
         "textposition": "auto",
         "type": "bar",
         "x": [
          "2018.12"
         ],
         "xaxis": "x",
         "y": [
          42
         ],
         "yaxis": "y"
        },
        {
         "alignmentgroup": "True",
         "hovertemplate": "MetaiMenuo=%{x}<br>MetaiMenuo_Count=%{y}<extra></extra>",
         "legendgroup": "2019.01",
         "marker": {
          "color": "#ab63fa",
          "pattern": {
           "shape": ""
          }
         },
         "name": "2019.01",
         "offsetgroup": "2019.01",
         "orientation": "v",
         "showlegend": true,
         "textposition": "auto",
         "type": "bar",
         "x": [
          "2019.01"
         ],
         "xaxis": "x",
         "y": [
          94
         ],
         "yaxis": "y"
        },
        {
         "alignmentgroup": "True",
         "hovertemplate": "MetaiMenuo=%{x}<br>MetaiMenuo_Count=%{y}<extra></extra>",
         "legendgroup": "2019.02",
         "marker": {
          "color": "#FFA15A",
          "pattern": {
           "shape": ""
          }
         },
         "name": "2019.02",
         "offsetgroup": "2019.02",
         "orientation": "v",
         "showlegend": true,
         "textposition": "auto",
         "type": "bar",
         "x": [
          "2019.02"
         ],
         "xaxis": "x",
         "y": [
          38
         ],
         "yaxis": "y"
        },
        {
         "alignmentgroup": "True",
         "hovertemplate": "MetaiMenuo=%{x}<br>MetaiMenuo_Count=%{y}<extra></extra>",
         "legendgroup": "2019.03",
         "marker": {
          "color": "#19d3f3",
          "pattern": {
           "shape": ""
          }
         },
         "name": "2019.03",
         "offsetgroup": "2019.03",
         "orientation": "v",
         "showlegend": true,
         "textposition": "auto",
         "type": "bar",
         "x": [
          "2019.03"
         ],
         "xaxis": "x",
         "y": [
          113
         ],
         "yaxis": "y"
        },
        {
         "alignmentgroup": "True",
         "hovertemplate": "MetaiMenuo=%{x}<br>MetaiMenuo_Count=%{y}<extra></extra>",
         "legendgroup": "2019.04",
         "marker": {
          "color": "#FF6692",
          "pattern": {
           "shape": ""
          }
         },
         "name": "2019.04",
         "offsetgroup": "2019.04",
         "orientation": "v",
         "showlegend": true,
         "textposition": "auto",
         "type": "bar",
         "x": [
          "2019.04"
         ],
         "xaxis": "x",
         "y": [
          228
         ],
         "yaxis": "y"
        },
        {
         "alignmentgroup": "True",
         "hovertemplate": "MetaiMenuo=%{x}<br>MetaiMenuo_Count=%{y}<extra></extra>",
         "legendgroup": "2019.05",
         "marker": {
          "color": "#B6E880",
          "pattern": {
           "shape": ""
          }
         },
         "name": "2019.05",
         "offsetgroup": "2019.05",
         "orientation": "v",
         "showlegend": true,
         "textposition": "auto",
         "type": "bar",
         "x": [
          "2019.05"
         ],
         "xaxis": "x",
         "y": [
          76
         ],
         "yaxis": "y"
        },
        {
         "alignmentgroup": "True",
         "hovertemplate": "MetaiMenuo=%{x}<br>MetaiMenuo_Count=%{y}<extra></extra>",
         "legendgroup": "2019.06",
         "marker": {
          "color": "#FF97FF",
          "pattern": {
           "shape": ""
          }
         },
         "name": "2019.06",
         "offsetgroup": "2019.06",
         "orientation": "v",
         "showlegend": true,
         "textposition": "auto",
         "type": "bar",
         "x": [
          "2019.06"
         ],
         "xaxis": "x",
         "y": [
          218
         ],
         "yaxis": "y"
        },
        {
         "alignmentgroup": "True",
         "hovertemplate": "MetaiMenuo=%{x}<br>MetaiMenuo_Count=%{y}<extra></extra>",
         "legendgroup": "2019.07",
         "marker": {
          "color": "#FECB52",
          "pattern": {
           "shape": ""
          }
         },
         "name": "2019.07",
         "offsetgroup": "2019.07",
         "orientation": "v",
         "showlegend": true,
         "textposition": "auto",
         "type": "bar",
         "x": [
          "2019.07"
         ],
         "xaxis": "x",
         "y": [
          143
         ],
         "yaxis": "y"
        },
        {
         "alignmentgroup": "True",
         "hovertemplate": "MetaiMenuo=%{x}<br>MetaiMenuo_Count=%{y}<extra></extra>",
         "legendgroup": "2019.08",
         "marker": {
          "color": "#636efa",
          "pattern": {
           "shape": ""
          }
         },
         "name": "2019.08",
         "offsetgroup": "2019.08",
         "orientation": "v",
         "showlegend": true,
         "textposition": "auto",
         "type": "bar",
         "x": [
          "2019.08"
         ],
         "xaxis": "x",
         "y": [
          207
         ],
         "yaxis": "y"
        },
        {
         "alignmentgroup": "True",
         "hovertemplate": "MetaiMenuo=%{x}<br>MetaiMenuo_Count=%{y}<extra></extra>",
         "legendgroup": "2019.09",
         "marker": {
          "color": "#EF553B",
          "pattern": {
           "shape": ""
          }
         },
         "name": "2019.09",
         "offsetgroup": "2019.09",
         "orientation": "v",
         "showlegend": true,
         "textposition": "auto",
         "type": "bar",
         "x": [
          "2019.09"
         ],
         "xaxis": "x",
         "y": [
          179
         ],
         "yaxis": "y"
        },
        {
         "alignmentgroup": "True",
         "hovertemplate": "MetaiMenuo=%{x}<br>MetaiMenuo_Count=%{y}<extra></extra>",
         "legendgroup": "2019.10",
         "marker": {
          "color": "#00cc96",
          "pattern": {
           "shape": ""
          }
         },
         "name": "2019.10",
         "offsetgroup": "2019.10",
         "orientation": "v",
         "showlegend": true,
         "textposition": "auto",
         "type": "bar",
         "x": [
          "2019.10"
         ],
         "xaxis": "x",
         "y": [
          80
         ],
         "yaxis": "y"
        },
        {
         "alignmentgroup": "True",
         "hovertemplate": "MetaiMenuo=%{x}<br>MetaiMenuo_Count=%{y}<extra></extra>",
         "legendgroup": "2019.11",
         "marker": {
          "color": "#ab63fa",
          "pattern": {
           "shape": ""
          }
         },
         "name": "2019.11",
         "offsetgroup": "2019.11",
         "orientation": "v",
         "showlegend": true,
         "textposition": "auto",
         "type": "bar",
         "x": [
          "2019.11"
         ],
         "xaxis": "x",
         "y": [
          95
         ],
         "yaxis": "y"
        },
        {
         "alignmentgroup": "True",
         "hovertemplate": "MetaiMenuo=%{x}<br>MetaiMenuo_Count=%{y}<extra></extra>",
         "legendgroup": "2019.12",
         "marker": {
          "color": "#FFA15A",
          "pattern": {
           "shape": ""
          }
         },
         "name": "2019.12",
         "offsetgroup": "2019.12",
         "orientation": "v",
         "showlegend": true,
         "textposition": "auto",
         "type": "bar",
         "x": [
          "2019.12"
         ],
         "xaxis": "x",
         "y": [
          325
         ],
         "yaxis": "y"
        },
        {
         "alignmentgroup": "True",
         "hovertemplate": "MetaiMenuo=%{x}<br>MetaiMenuo_Count=%{y}<extra></extra>",
         "legendgroup": "2020.01",
         "marker": {
          "color": "#19d3f3",
          "pattern": {
           "shape": ""
          }
         },
         "name": "2020.01",
         "offsetgroup": "2020.01",
         "orientation": "v",
         "showlegend": true,
         "textposition": "auto",
         "type": "bar",
         "x": [
          "2020.01"
         ],
         "xaxis": "x",
         "y": [
          184
         ],
         "yaxis": "y"
        },
        {
         "alignmentgroup": "True",
         "hovertemplate": "MetaiMenuo=%{x}<br>MetaiMenuo_Count=%{y}<extra></extra>",
         "legendgroup": "2020.02",
         "marker": {
          "color": "#FF6692",
          "pattern": {
           "shape": ""
          }
         },
         "name": "2020.02",
         "offsetgroup": "2020.02",
         "orientation": "v",
         "showlegend": true,
         "textposition": "auto",
         "type": "bar",
         "x": [
          "2020.02"
         ],
         "xaxis": "x",
         "y": [
          234
         ],
         "yaxis": "y"
        },
        {
         "alignmentgroup": "True",
         "hovertemplate": "MetaiMenuo=%{x}<br>MetaiMenuo_Count=%{y}<extra></extra>",
         "legendgroup": "2020.03",
         "marker": {
          "color": "#B6E880",
          "pattern": {
           "shape": ""
          }
         },
         "name": "2020.03",
         "offsetgroup": "2020.03",
         "orientation": "v",
         "showlegend": true,
         "textposition": "auto",
         "type": "bar",
         "x": [
          "2020.03"
         ],
         "xaxis": "x",
         "y": [
          372
         ],
         "yaxis": "y"
        },
        {
         "alignmentgroup": "True",
         "hovertemplate": "MetaiMenuo=%{x}<br>MetaiMenuo_Count=%{y}<extra></extra>",
         "legendgroup": "2020.04",
         "marker": {
          "color": "#FF97FF",
          "pattern": {
           "shape": ""
          }
         },
         "name": "2020.04",
         "offsetgroup": "2020.04",
         "orientation": "v",
         "showlegend": true,
         "textposition": "auto",
         "type": "bar",
         "x": [
          "2020.04"
         ],
         "xaxis": "x",
         "y": [
          217
         ],
         "yaxis": "y"
        },
        {
         "alignmentgroup": "True",
         "hovertemplate": "MetaiMenuo=%{x}<br>MetaiMenuo_Count=%{y}<extra></extra>",
         "legendgroup": "2020.05",
         "marker": {
          "color": "#FECB52",
          "pattern": {
           "shape": ""
          }
         },
         "name": "2020.05",
         "offsetgroup": "2020.05",
         "orientation": "v",
         "showlegend": true,
         "textposition": "auto",
         "type": "bar",
         "x": [
          "2020.05"
         ],
         "xaxis": "x",
         "y": [
          498
         ],
         "yaxis": "y"
        },
        {
         "alignmentgroup": "True",
         "hovertemplate": "MetaiMenuo=%{x}<br>MetaiMenuo_Count=%{y}<extra></extra>",
         "legendgroup": "2020.06",
         "marker": {
          "color": "#636efa",
          "pattern": {
           "shape": ""
          }
         },
         "name": "2020.06",
         "offsetgroup": "2020.06",
         "orientation": "v",
         "showlegend": true,
         "textposition": "auto",
         "type": "bar",
         "x": [
          "2020.06"
         ],
         "xaxis": "x",
         "y": [
          429
         ],
         "yaxis": "y"
        },
        {
         "alignmentgroup": "True",
         "hovertemplate": "MetaiMenuo=%{x}<br>MetaiMenuo_Count=%{y}<extra></extra>",
         "legendgroup": "2020.07",
         "marker": {
          "color": "#EF553B",
          "pattern": {
           "shape": ""
          }
         },
         "name": "2020.07",
         "offsetgroup": "2020.07",
         "orientation": "v",
         "showlegend": true,
         "textposition": "auto",
         "type": "bar",
         "x": [
          "2020.07"
         ],
         "xaxis": "x",
         "y": [
          631
         ],
         "yaxis": "y"
        },
        {
         "alignmentgroup": "True",
         "hovertemplate": "MetaiMenuo=%{x}<br>MetaiMenuo_Count=%{y}<extra></extra>",
         "legendgroup": "2020.08",
         "marker": {
          "color": "#00cc96",
          "pattern": {
           "shape": ""
          }
         },
         "name": "2020.08",
         "offsetgroup": "2020.08",
         "orientation": "v",
         "showlegend": true,
         "textposition": "auto",
         "type": "bar",
         "x": [
          "2020.08"
         ],
         "xaxis": "x",
         "y": [
          522
         ],
         "yaxis": "y"
        },
        {
         "alignmentgroup": "True",
         "hovertemplate": "MetaiMenuo=%{x}<br>MetaiMenuo_Count=%{y}<extra></extra>",
         "legendgroup": "2020.09",
         "marker": {
          "color": "#ab63fa",
          "pattern": {
           "shape": ""
          }
         },
         "name": "2020.09",
         "offsetgroup": "2020.09",
         "orientation": "v",
         "showlegend": true,
         "textposition": "auto",
         "type": "bar",
         "x": [
          "2020.09"
         ],
         "xaxis": "x",
         "y": [
          504
         ],
         "yaxis": "y"
        },
        {
         "alignmentgroup": "True",
         "hovertemplate": "MetaiMenuo=%{x}<br>MetaiMenuo_Count=%{y}<extra></extra>",
         "legendgroup": "2020.10",
         "marker": {
          "color": "#FFA15A",
          "pattern": {
           "shape": ""
          }
         },
         "name": "2020.10",
         "offsetgroup": "2020.10",
         "orientation": "v",
         "showlegend": true,
         "textposition": "auto",
         "type": "bar",
         "x": [
          "2020.10"
         ],
         "xaxis": "x",
         "y": [
          393
         ],
         "yaxis": "y"
        },
        {
         "alignmentgroup": "True",
         "hovertemplate": "MetaiMenuo=%{x}<br>MetaiMenuo_Count=%{y}<extra></extra>",
         "legendgroup": "2020.11",
         "marker": {
          "color": "#19d3f3",
          "pattern": {
           "shape": ""
          }
         },
         "name": "2020.11",
         "offsetgroup": "2020.11",
         "orientation": "v",
         "showlegend": true,
         "textposition": "auto",
         "type": "bar",
         "x": [
          "2020.11"
         ],
         "xaxis": "x",
         "y": [
          253
         ],
         "yaxis": "y"
        },
        {
         "alignmentgroup": "True",
         "hovertemplate": "MetaiMenuo=%{x}<br>MetaiMenuo_Count=%{y}<extra></extra>",
         "legendgroup": "2020.12",
         "marker": {
          "color": "#FF6692",
          "pattern": {
           "shape": ""
          }
         },
         "name": "2020.12",
         "offsetgroup": "2020.12",
         "orientation": "v",
         "showlegend": true,
         "textposition": "auto",
         "type": "bar",
         "x": [
          "2020.12"
         ],
         "xaxis": "x",
         "y": [
          421
         ],
         "yaxis": "y"
        },
        {
         "alignmentgroup": "True",
         "hovertemplate": "MetaiMenuo=%{x}<br>MetaiMenuo_Count=%{y}<extra></extra>",
         "legendgroup": "2021.01",
         "marker": {
          "color": "#B6E880",
          "pattern": {
           "shape": ""
          }
         },
         "name": "2021.01",
         "offsetgroup": "2021.01",
         "orientation": "v",
         "showlegend": true,
         "textposition": "auto",
         "type": "bar",
         "x": [
          "2021.01"
         ],
         "xaxis": "x",
         "y": [
          814
         ],
         "yaxis": "y"
        },
        {
         "alignmentgroup": "True",
         "hovertemplate": "MetaiMenuo=%{x}<br>MetaiMenuo_Count=%{y}<extra></extra>",
         "legendgroup": "2021.02",
         "marker": {
          "color": "#FF97FF",
          "pattern": {
           "shape": ""
          }
         },
         "name": "2021.02",
         "offsetgroup": "2021.02",
         "orientation": "v",
         "showlegend": true,
         "textposition": "auto",
         "type": "bar",
         "x": [
          "2021.02"
         ],
         "xaxis": "x",
         "y": [
          909
         ],
         "yaxis": "y"
        },
        {
         "alignmentgroup": "True",
         "hovertemplate": "MetaiMenuo=%{x}<br>MetaiMenuo_Count=%{y}<extra></extra>",
         "legendgroup": "2021.03",
         "marker": {
          "color": "#FECB52",
          "pattern": {
           "shape": ""
          }
         },
         "name": "2021.03",
         "offsetgroup": "2021.03",
         "orientation": "v",
         "showlegend": true,
         "textposition": "auto",
         "type": "bar",
         "x": [
          "2021.03"
         ],
         "xaxis": "x",
         "y": [
          454
         ],
         "yaxis": "y"
        },
        {
         "alignmentgroup": "True",
         "hovertemplate": "MetaiMenuo=%{x}<br>MetaiMenuo_Count=%{y}<extra></extra>",
         "legendgroup": "2021.04",
         "marker": {
          "color": "#636efa",
          "pattern": {
           "shape": ""
          }
         },
         "name": "2021.04",
         "offsetgroup": "2021.04",
         "orientation": "v",
         "showlegend": true,
         "textposition": "auto",
         "type": "bar",
         "x": [
          "2021.04"
         ],
         "xaxis": "x",
         "y": [
          216
         ],
         "yaxis": "y"
        },
        {
         "alignmentgroup": "True",
         "hovertemplate": "MetaiMenuo=%{x}<br>MetaiMenuo_Count=%{y}<extra></extra>",
         "legendgroup": "2021.05",
         "marker": {
          "color": "#EF553B",
          "pattern": {
           "shape": ""
          }
         },
         "name": "2021.05",
         "offsetgroup": "2021.05",
         "orientation": "v",
         "showlegend": true,
         "textposition": "auto",
         "type": "bar",
         "x": [
          "2021.05"
         ],
         "xaxis": "x",
         "y": [
          318
         ],
         "yaxis": "y"
        },
        {
         "alignmentgroup": "True",
         "hovertemplate": "MetaiMenuo=%{x}<br>MetaiMenuo_Count=%{y}<extra></extra>",
         "legendgroup": "2021.06",
         "marker": {
          "color": "#00cc96",
          "pattern": {
           "shape": ""
          }
         },
         "name": "2021.06",
         "offsetgroup": "2021.06",
         "orientation": "v",
         "showlegend": true,
         "textposition": "auto",
         "type": "bar",
         "x": [
          "2021.06"
         ],
         "xaxis": "x",
         "y": [
          423
         ],
         "yaxis": "y"
        },
        {
         "alignmentgroup": "True",
         "hovertemplate": "MetaiMenuo=%{x}<br>MetaiMenuo_Count=%{y}<extra></extra>",
         "legendgroup": "2021.07",
         "marker": {
          "color": "#ab63fa",
          "pattern": {
           "shape": ""
          }
         },
         "name": "2021.07",
         "offsetgroup": "2021.07",
         "orientation": "v",
         "showlegend": true,
         "textposition": "auto",
         "type": "bar",
         "x": [
          "2021.07"
         ],
         "xaxis": "x",
         "y": [
          286
         ],
         "yaxis": "y"
        },
        {
         "alignmentgroup": "True",
         "hovertemplate": "MetaiMenuo=%{x}<br>MetaiMenuo_Count=%{y}<extra></extra>",
         "legendgroup": "2021.08",
         "marker": {
          "color": "#FFA15A",
          "pattern": {
           "shape": ""
          }
         },
         "name": "2021.08",
         "offsetgroup": "2021.08",
         "orientation": "v",
         "showlegend": true,
         "textposition": "auto",
         "type": "bar",
         "x": [
          "2021.08"
         ],
         "xaxis": "x",
         "y": [
          293
         ],
         "yaxis": "y"
        },
        {
         "alignmentgroup": "True",
         "hovertemplate": "MetaiMenuo=%{x}<br>MetaiMenuo_Count=%{y}<extra></extra>",
         "legendgroup": "2021.09",
         "marker": {
          "color": "#19d3f3",
          "pattern": {
           "shape": ""
          }
         },
         "name": "2021.09",
         "offsetgroup": "2021.09",
         "orientation": "v",
         "showlegend": true,
         "textposition": "auto",
         "type": "bar",
         "x": [
          "2021.09"
         ],
         "xaxis": "x",
         "y": [
          236
         ],
         "yaxis": "y"
        },
        {
         "alignmentgroup": "True",
         "hovertemplate": "MetaiMenuo=%{x}<br>MetaiMenuo_Count=%{y}<extra></extra>",
         "legendgroup": "2021.10",
         "marker": {
          "color": "#FF6692",
          "pattern": {
           "shape": ""
          }
         },
         "name": "2021.10",
         "offsetgroup": "2021.10",
         "orientation": "v",
         "showlegend": true,
         "textposition": "auto",
         "type": "bar",
         "x": [
          "2021.10"
         ],
         "xaxis": "x",
         "y": [
          206
         ],
         "yaxis": "y"
        },
        {
         "alignmentgroup": "True",
         "hovertemplate": "MetaiMenuo=%{x}<br>MetaiMenuo_Count=%{y}<extra></extra>",
         "legendgroup": "2021.11",
         "marker": {
          "color": "#B6E880",
          "pattern": {
           "shape": ""
          }
         },
         "name": "2021.11",
         "offsetgroup": "2021.11",
         "orientation": "v",
         "showlegend": true,
         "textposition": "auto",
         "type": "bar",
         "x": [
          "2021.11"
         ],
         "xaxis": "x",
         "y": [
          389
         ],
         "yaxis": "y"
        },
        {
         "alignmentgroup": "True",
         "hovertemplate": "MetaiMenuo=%{x}<br>MetaiMenuo_Count=%{y}<extra></extra>",
         "legendgroup": "2021.12",
         "marker": {
          "color": "#FF97FF",
          "pattern": {
           "shape": ""
          }
         },
         "name": "2021.12",
         "offsetgroup": "2021.12",
         "orientation": "v",
         "showlegend": true,
         "textposition": "auto",
         "type": "bar",
         "x": [
          "2021.12"
         ],
         "xaxis": "x",
         "y": [
          203
         ],
         "yaxis": "y"
        },
        {
         "alignmentgroup": "True",
         "hovertemplate": "MetaiMenuo=%{x}<br>MetaiMenuo_Count=%{y}<extra></extra>",
         "legendgroup": "2022.01",
         "marker": {
          "color": "#FECB52",
          "pattern": {
           "shape": ""
          }
         },
         "name": "2022.01",
         "offsetgroup": "2022.01",
         "orientation": "v",
         "showlegend": true,
         "textposition": "auto",
         "type": "bar",
         "x": [
          "2022.01"
         ],
         "xaxis": "x",
         "y": [
          430
         ],
         "yaxis": "y"
        },
        {
         "alignmentgroup": "True",
         "hovertemplate": "MetaiMenuo=%{x}<br>MetaiMenuo_Count=%{y}<extra></extra>",
         "legendgroup": "2022.02",
         "marker": {
          "color": "#636efa",
          "pattern": {
           "shape": ""
          }
         },
         "name": "2022.02",
         "offsetgroup": "2022.02",
         "orientation": "v",
         "showlegend": true,
         "textposition": "auto",
         "type": "bar",
         "x": [
          "2022.02"
         ],
         "xaxis": "x",
         "y": [
          1008
         ],
         "yaxis": "y"
        },
        {
         "alignmentgroup": "True",
         "hovertemplate": "MetaiMenuo=%{x}<br>MetaiMenuo_Count=%{y}<extra></extra>",
         "legendgroup": "2022.03",
         "marker": {
          "color": "#EF553B",
          "pattern": {
           "shape": ""
          }
         },
         "name": "2022.03",
         "offsetgroup": "2022.03",
         "orientation": "v",
         "showlegend": true,
         "textposition": "auto",
         "type": "bar",
         "x": [
          "2022.03"
         ],
         "xaxis": "x",
         "y": [
          350
         ],
         "yaxis": "y"
        },
        {
         "alignmentgroup": "True",
         "hovertemplate": "MetaiMenuo=%{x}<br>MetaiMenuo_Count=%{y}<extra></extra>",
         "legendgroup": "2022.04",
         "marker": {
          "color": "#00cc96",
          "pattern": {
           "shape": ""
          }
         },
         "name": "2022.04",
         "offsetgroup": "2022.04",
         "orientation": "v",
         "showlegend": true,
         "textposition": "auto",
         "type": "bar",
         "x": [
          "2022.04"
         ],
         "xaxis": "x",
         "y": [
          476
         ],
         "yaxis": "y"
        },
        {
         "alignmentgroup": "True",
         "hovertemplate": "MetaiMenuo=%{x}<br>MetaiMenuo_Count=%{y}<extra></extra>",
         "legendgroup": "2022.05",
         "marker": {
          "color": "#ab63fa",
          "pattern": {
           "shape": ""
          }
         },
         "name": "2022.05",
         "offsetgroup": "2022.05",
         "orientation": "v",
         "showlegend": true,
         "textposition": "auto",
         "type": "bar",
         "x": [
          "2022.05"
         ],
         "xaxis": "x",
         "y": [
          302
         ],
         "yaxis": "y"
        },
        {
         "alignmentgroup": "True",
         "hovertemplate": "MetaiMenuo=%{x}<br>MetaiMenuo_Count=%{y}<extra></extra>",
         "legendgroup": "2022.06",
         "marker": {
          "color": "#FFA15A",
          "pattern": {
           "shape": ""
          }
         },
         "name": "2022.06",
         "offsetgroup": "2022.06",
         "orientation": "v",
         "showlegend": true,
         "textposition": "auto",
         "type": "bar",
         "x": [
          "2022.06"
         ],
         "xaxis": "x",
         "y": [
          243
         ],
         "yaxis": "y"
        },
        {
         "alignmentgroup": "True",
         "hovertemplate": "MetaiMenuo=%{x}<br>MetaiMenuo_Count=%{y}<extra></extra>",
         "legendgroup": "2022.07",
         "marker": {
          "color": "#19d3f3",
          "pattern": {
           "shape": ""
          }
         },
         "name": "2022.07",
         "offsetgroup": "2022.07",
         "orientation": "v",
         "showlegend": true,
         "textposition": "auto",
         "type": "bar",
         "x": [
          "2022.07"
         ],
         "xaxis": "x",
         "y": [
          180
         ],
         "yaxis": "y"
        },
        {
         "alignmentgroup": "True",
         "hovertemplate": "MetaiMenuo=%{x}<br>MetaiMenuo_Count=%{y}<extra></extra>",
         "legendgroup": "2022.08",
         "marker": {
          "color": "#FF6692",
          "pattern": {
           "shape": ""
          }
         },
         "name": "2022.08",
         "offsetgroup": "2022.08",
         "orientation": "v",
         "showlegend": true,
         "textposition": "auto",
         "type": "bar",
         "x": [
          "2022.08"
         ],
         "xaxis": "x",
         "y": [
          214
         ],
         "yaxis": "y"
        },
        {
         "alignmentgroup": "True",
         "hovertemplate": "MetaiMenuo=%{x}<br>MetaiMenuo_Count=%{y}<extra></extra>",
         "legendgroup": "2022.09",
         "marker": {
          "color": "#B6E880",
          "pattern": {
           "shape": ""
          }
         },
         "name": "2022.09",
         "offsetgroup": "2022.09",
         "orientation": "v",
         "showlegend": true,
         "textposition": "auto",
         "type": "bar",
         "x": [
          "2022.09"
         ],
         "xaxis": "x",
         "y": [
          228
         ],
         "yaxis": "y"
        },
        {
         "alignmentgroup": "True",
         "hovertemplate": "MetaiMenuo=%{x}<br>MetaiMenuo_Count=%{y}<extra></extra>",
         "legendgroup": "2022.10",
         "marker": {
          "color": "#FF97FF",
          "pattern": {
           "shape": ""
          }
         },
         "name": "2022.10",
         "offsetgroup": "2022.10",
         "orientation": "v",
         "showlegend": true,
         "textposition": "auto",
         "type": "bar",
         "x": [
          "2022.10"
         ],
         "xaxis": "x",
         "y": [
          316
         ],
         "yaxis": "y"
        },
        {
         "alignmentgroup": "True",
         "hovertemplate": "MetaiMenuo=%{x}<br>MetaiMenuo_Count=%{y}<extra></extra>",
         "legendgroup": "2022.11",
         "marker": {
          "color": "#FECB52",
          "pattern": {
           "shape": ""
          }
         },
         "name": "2022.11",
         "offsetgroup": "2022.11",
         "orientation": "v",
         "showlegend": true,
         "textposition": "auto",
         "type": "bar",
         "x": [
          "2022.11"
         ],
         "xaxis": "x",
         "y": [
          213
         ],
         "yaxis": "y"
        },
        {
         "alignmentgroup": "True",
         "hovertemplate": "MetaiMenuo=%{x}<br>MetaiMenuo_Count=%{y}<extra></extra>",
         "legendgroup": "2022.12",
         "marker": {
          "color": "#636efa",
          "pattern": {
           "shape": ""
          }
         },
         "name": "2022.12",
         "offsetgroup": "2022.12",
         "orientation": "v",
         "showlegend": true,
         "textposition": "auto",
         "type": "bar",
         "x": [
          "2022.12"
         ],
         "xaxis": "x",
         "y": [
          409
         ],
         "yaxis": "y"
        },
        {
         "alignmentgroup": "True",
         "hovertemplate": "MetaiMenuo=%{x}<br>MetaiMenuo_Count=%{y}<extra></extra>",
         "legendgroup": "2023.01",
         "marker": {
          "color": "#EF553B",
          "pattern": {
           "shape": ""
          }
         },
         "name": "2023.01",
         "offsetgroup": "2023.01",
         "orientation": "v",
         "showlegend": true,
         "textposition": "auto",
         "type": "bar",
         "x": [
          "2023.01"
         ],
         "xaxis": "x",
         "y": [
          466
         ],
         "yaxis": "y"
        },
        {
         "alignmentgroup": "True",
         "hovertemplate": "MetaiMenuo=%{x}<br>MetaiMenuo_Count=%{y}<extra></extra>",
         "legendgroup": "2023.02",
         "marker": {
          "color": "#00cc96",
          "pattern": {
           "shape": ""
          }
         },
         "name": "2023.02",
         "offsetgroup": "2023.02",
         "orientation": "v",
         "showlegend": true,
         "textposition": "auto",
         "type": "bar",
         "x": [
          "2023.02"
         ],
         "xaxis": "x",
         "y": [
          461
         ],
         "yaxis": "y"
        },
        {
         "alignmentgroup": "True",
         "hovertemplate": "MetaiMenuo=%{x}<br>MetaiMenuo_Count=%{y}<extra></extra>",
         "legendgroup": "2023.03",
         "marker": {
          "color": "#ab63fa",
          "pattern": {
           "shape": ""
          }
         },
         "name": "2023.03",
         "offsetgroup": "2023.03",
         "orientation": "v",
         "showlegend": true,
         "textposition": "auto",
         "type": "bar",
         "x": [
          "2023.03"
         ],
         "xaxis": "x",
         "y": [
          303
         ],
         "yaxis": "y"
        },
        {
         "alignmentgroup": "True",
         "hovertemplate": "MetaiMenuo=%{x}<br>MetaiMenuo_Count=%{y}<extra></extra>",
         "legendgroup": "2023.04",
         "marker": {
          "color": "#FFA15A",
          "pattern": {
           "shape": ""
          }
         },
         "name": "2023.04",
         "offsetgroup": "2023.04",
         "orientation": "v",
         "showlegend": true,
         "textposition": "auto",
         "type": "bar",
         "x": [
          "2023.04"
         ],
         "xaxis": "x",
         "y": [
          264
         ],
         "yaxis": "y"
        },
        {
         "alignmentgroup": "True",
         "hovertemplate": "MetaiMenuo=%{x}<br>MetaiMenuo_Count=%{y}<extra></extra>",
         "legendgroup": "2023.05",
         "marker": {
          "color": "#19d3f3",
          "pattern": {
           "shape": ""
          }
         },
         "name": "2023.05",
         "offsetgroup": "2023.05",
         "orientation": "v",
         "showlegend": true,
         "textposition": "auto",
         "type": "bar",
         "x": [
          "2023.05"
         ],
         "xaxis": "x",
         "y": [
          310
         ],
         "yaxis": "y"
        },
        {
         "alignmentgroup": "True",
         "hovertemplate": "MetaiMenuo=%{x}<br>MetaiMenuo_Count=%{y}<extra></extra>",
         "legendgroup": "2023.06",
         "marker": {
          "color": "#FF6692",
          "pattern": {
           "shape": ""
          }
         },
         "name": "2023.06",
         "offsetgroup": "2023.06",
         "orientation": "v",
         "showlegend": true,
         "textposition": "auto",
         "type": "bar",
         "x": [
          "2023.06"
         ],
         "xaxis": "x",
         "y": [
          124
         ],
         "yaxis": "y"
        },
        {
         "alignmentgroup": "True",
         "hovertemplate": "MetaiMenuo=%{x}<br>MetaiMenuo_Count=%{y}<extra></extra>",
         "legendgroup": "2023.07",
         "marker": {
          "color": "#B6E880",
          "pattern": {
           "shape": ""
          }
         },
         "name": "2023.07",
         "offsetgroup": "2023.07",
         "orientation": "v",
         "showlegend": true,
         "textposition": "auto",
         "type": "bar",
         "x": [
          "2023.07"
         ],
         "xaxis": "x",
         "y": [
          140
         ],
         "yaxis": "y"
        },
        {
         "alignmentgroup": "True",
         "hovertemplate": "MetaiMenuo=%{x}<br>MetaiMenuo_Count=%{y}<extra></extra>",
         "legendgroup": "2023.08",
         "marker": {
          "color": "#FF97FF",
          "pattern": {
           "shape": ""
          }
         },
         "name": "2023.08",
         "offsetgroup": "2023.08",
         "orientation": "v",
         "showlegend": true,
         "textposition": "auto",
         "type": "bar",
         "x": [
          "2023.08"
         ],
         "xaxis": "x",
         "y": [
          277
         ],
         "yaxis": "y"
        },
        {
         "alignmentgroup": "True",
         "hovertemplate": "MetaiMenuo=%{x}<br>MetaiMenuo_Count=%{y}<extra></extra>",
         "legendgroup": "2023.09",
         "marker": {
          "color": "#FECB52",
          "pattern": {
           "shape": ""
          }
         },
         "name": "2023.09",
         "offsetgroup": "2023.09",
         "orientation": "v",
         "showlegend": true,
         "textposition": "auto",
         "type": "bar",
         "x": [
          "2023.09"
         ],
         "xaxis": "x",
         "y": [
          248
         ],
         "yaxis": "y"
        },
        {
         "alignmentgroup": "True",
         "hovertemplate": "MetaiMenuo=%{x}<br>MetaiMenuo_Count=%{y}<extra></extra>",
         "legendgroup": "2023.10",
         "marker": {
          "color": "#636efa",
          "pattern": {
           "shape": ""
          }
         },
         "name": "2023.10",
         "offsetgroup": "2023.10",
         "orientation": "v",
         "showlegend": true,
         "textposition": "auto",
         "type": "bar",
         "x": [
          "2023.10"
         ],
         "xaxis": "x",
         "y": [
          659
         ],
         "yaxis": "y"
        },
        {
         "alignmentgroup": "True",
         "hovertemplate": "MetaiMenuo=%{x}<br>MetaiMenuo_Count=%{y}<extra></extra>",
         "legendgroup": "2023.11",
         "marker": {
          "color": "#EF553B",
          "pattern": {
           "shape": ""
          }
         },
         "name": "2023.11",
         "offsetgroup": "2023.11",
         "orientation": "v",
         "showlegend": true,
         "textposition": "auto",
         "type": "bar",
         "x": [
          "2023.11"
         ],
         "xaxis": "x",
         "y": [
          444
         ],
         "yaxis": "y"
        },
        {
         "alignmentgroup": "True",
         "hovertemplate": "MetaiMenuo=%{x}<br>MetaiMenuo_Count=%{y}<extra></extra>",
         "legendgroup": "2023.12",
         "marker": {
          "color": "#00cc96",
          "pattern": {
           "shape": ""
          }
         },
         "name": "2023.12",
         "offsetgroup": "2023.12",
         "orientation": "v",
         "showlegend": true,
         "textposition": "auto",
         "type": "bar",
         "x": [
          "2023.12"
         ],
         "xaxis": "x",
         "y": [
          597
         ],
         "yaxis": "y"
        },
        {
         "alignmentgroup": "True",
         "hovertemplate": "MetaiMenuo=%{x}<br>MetaiMenuo_Count=%{y}<extra></extra>",
         "legendgroup": "2024.01",
         "marker": {
          "color": "#ab63fa",
          "pattern": {
           "shape": ""
          }
         },
         "name": "2024.01",
         "offsetgroup": "2024.01",
         "orientation": "v",
         "showlegend": true,
         "textposition": "auto",
         "type": "bar",
         "x": [
          "2024.01"
         ],
         "xaxis": "x",
         "y": [
          623
         ],
         "yaxis": "y"
        },
        {
         "alignmentgroup": "True",
         "hovertemplate": "MetaiMenuo=%{x}<br>MetaiMenuo_Count=%{y}<extra></extra>",
         "legendgroup": "2024.02",
         "marker": {
          "color": "#FFA15A",
          "pattern": {
           "shape": ""
          }
         },
         "name": "2024.02",
         "offsetgroup": "2024.02",
         "orientation": "v",
         "showlegend": true,
         "textposition": "auto",
         "type": "bar",
         "x": [
          "2024.02"
         ],
         "xaxis": "x",
         "y": [
          79
         ],
         "yaxis": "y"
        },
        {
         "alignmentgroup": "True",
         "hovertemplate": "MetaiMenuo=%{x}<br>MetaiMenuo_Count=%{y}<extra></extra>",
         "legendgroup": "2024.03",
         "marker": {
          "color": "#19d3f3",
          "pattern": {
           "shape": ""
          }
         },
         "name": "2024.03",
         "offsetgroup": "2024.03",
         "orientation": "v",
         "showlegend": true,
         "textposition": "auto",
         "type": "bar",
         "x": [
          "2024.03"
         ],
         "xaxis": "x",
         "y": [
          106
         ],
         "yaxis": "y"
        },
        {
         "alignmentgroup": "True",
         "hovertemplate": "MetaiMenuo=%{x}<br>MetaiMenuo_Count=%{y}<extra></extra>",
         "legendgroup": "2024.04",
         "marker": {
          "color": "#FF6692",
          "pattern": {
           "shape": ""
          }
         },
         "name": "2024.04",
         "offsetgroup": "2024.04",
         "orientation": "v",
         "showlegend": true,
         "textposition": "auto",
         "type": "bar",
         "x": [
          "2024.04"
         ],
         "xaxis": "x",
         "y": [
          63
         ],
         "yaxis": "y"
        },
        {
         "alignmentgroup": "True",
         "hovertemplate": "MetaiMenuo=%{x}<br>MetaiMenuo_Count=%{y}<extra></extra>",
         "legendgroup": "2024.05",
         "marker": {
          "color": "#B6E880",
          "pattern": {
           "shape": ""
          }
         },
         "name": "2024.05",
         "offsetgroup": "2024.05",
         "orientation": "v",
         "showlegend": true,
         "textposition": "auto",
         "type": "bar",
         "x": [
          "2024.05"
         ],
         "xaxis": "x",
         "y": [
          9
         ],
         "yaxis": "y"
        },
        {
         "alignmentgroup": "True",
         "hovertemplate": "MetaiMenuo=%{x}<br>MetaiMenuo_Count=%{y}<extra></extra>",
         "legendgroup": "2024.06",
         "marker": {
          "color": "#FF97FF",
          "pattern": {
           "shape": ""
          }
         },
         "name": "2024.06",
         "offsetgroup": "2024.06",
         "orientation": "v",
         "showlegend": true,
         "textposition": "auto",
         "type": "bar",
         "x": [
          "2024.06"
         ],
         "xaxis": "x",
         "y": [
          14
         ],
         "yaxis": "y"
        },
        {
         "alignmentgroup": "True",
         "hovertemplate": "MetaiMenuo=%{x}<br>MetaiMenuo_Count=%{y}<extra></extra>",
         "legendgroup": "2024.08",
         "marker": {
          "color": "#FECB52",
          "pattern": {
           "shape": ""
          }
         },
         "name": "2024.08",
         "offsetgroup": "2024.08",
         "orientation": "v",
         "showlegend": true,
         "textposition": "auto",
         "type": "bar",
         "x": [
          "2024.08"
         ],
         "xaxis": "x",
         "y": [
          14
         ],
         "yaxis": "y"
        }
       ],
       "layout": {
        "barmode": "relative",
        "legend": {
         "title": {
          "text": "MetaiMenuo"
         },
         "tracegroupgap": 0
        },
        "margin": {
         "t": 60
        },
        "template": {
         "data": {
          "bar": [
           {
            "error_x": {
             "color": "#2a3f5f"
            },
            "error_y": {
             "color": "#2a3f5f"
            },
            "marker": {
             "line": {
              "color": "#E5ECF6",
              "width": 0.5
             },
             "pattern": {
              "fillmode": "overlay",
              "size": 10,
              "solidity": 0.2
             }
            },
            "type": "bar"
           }
          ],
          "barpolar": [
           {
            "marker": {
             "line": {
              "color": "#E5ECF6",
              "width": 0.5
             },
             "pattern": {
              "fillmode": "overlay",
              "size": 10,
              "solidity": 0.2
             }
            },
            "type": "barpolar"
           }
          ],
          "carpet": [
           {
            "aaxis": {
             "endlinecolor": "#2a3f5f",
             "gridcolor": "white",
             "linecolor": "white",
             "minorgridcolor": "white",
             "startlinecolor": "#2a3f5f"
            },
            "baxis": {
             "endlinecolor": "#2a3f5f",
             "gridcolor": "white",
             "linecolor": "white",
             "minorgridcolor": "white",
             "startlinecolor": "#2a3f5f"
            },
            "type": "carpet"
           }
          ],
          "choropleth": [
           {
            "colorbar": {
             "outlinewidth": 0,
             "ticks": ""
            },
            "type": "choropleth"
           }
          ],
          "contour": [
           {
            "colorbar": {
             "outlinewidth": 0,
             "ticks": ""
            },
            "colorscale": [
             [
              0,
              "#0d0887"
             ],
             [
              0.1111111111111111,
              "#46039f"
             ],
             [
              0.2222222222222222,
              "#7201a8"
             ],
             [
              0.3333333333333333,
              "#9c179e"
             ],
             [
              0.4444444444444444,
              "#bd3786"
             ],
             [
              0.5555555555555556,
              "#d8576b"
             ],
             [
              0.6666666666666666,
              "#ed7953"
             ],
             [
              0.7777777777777778,
              "#fb9f3a"
             ],
             [
              0.8888888888888888,
              "#fdca26"
             ],
             [
              1,
              "#f0f921"
             ]
            ],
            "type": "contour"
           }
          ],
          "contourcarpet": [
           {
            "colorbar": {
             "outlinewidth": 0,
             "ticks": ""
            },
            "type": "contourcarpet"
           }
          ],
          "heatmap": [
           {
            "colorbar": {
             "outlinewidth": 0,
             "ticks": ""
            },
            "colorscale": [
             [
              0,
              "#0d0887"
             ],
             [
              0.1111111111111111,
              "#46039f"
             ],
             [
              0.2222222222222222,
              "#7201a8"
             ],
             [
              0.3333333333333333,
              "#9c179e"
             ],
             [
              0.4444444444444444,
              "#bd3786"
             ],
             [
              0.5555555555555556,
              "#d8576b"
             ],
             [
              0.6666666666666666,
              "#ed7953"
             ],
             [
              0.7777777777777778,
              "#fb9f3a"
             ],
             [
              0.8888888888888888,
              "#fdca26"
             ],
             [
              1,
              "#f0f921"
             ]
            ],
            "type": "heatmap"
           }
          ],
          "heatmapgl": [
           {
            "colorbar": {
             "outlinewidth": 0,
             "ticks": ""
            },
            "colorscale": [
             [
              0,
              "#0d0887"
             ],
             [
              0.1111111111111111,
              "#46039f"
             ],
             [
              0.2222222222222222,
              "#7201a8"
             ],
             [
              0.3333333333333333,
              "#9c179e"
             ],
             [
              0.4444444444444444,
              "#bd3786"
             ],
             [
              0.5555555555555556,
              "#d8576b"
             ],
             [
              0.6666666666666666,
              "#ed7953"
             ],
             [
              0.7777777777777778,
              "#fb9f3a"
             ],
             [
              0.8888888888888888,
              "#fdca26"
             ],
             [
              1,
              "#f0f921"
             ]
            ],
            "type": "heatmapgl"
           }
          ],
          "histogram": [
           {
            "marker": {
             "pattern": {
              "fillmode": "overlay",
              "size": 10,
              "solidity": 0.2
             }
            },
            "type": "histogram"
           }
          ],
          "histogram2d": [
           {
            "colorbar": {
             "outlinewidth": 0,
             "ticks": ""
            },
            "colorscale": [
             [
              0,
              "#0d0887"
             ],
             [
              0.1111111111111111,
              "#46039f"
             ],
             [
              0.2222222222222222,
              "#7201a8"
             ],
             [
              0.3333333333333333,
              "#9c179e"
             ],
             [
              0.4444444444444444,
              "#bd3786"
             ],
             [
              0.5555555555555556,
              "#d8576b"
             ],
             [
              0.6666666666666666,
              "#ed7953"
             ],
             [
              0.7777777777777778,
              "#fb9f3a"
             ],
             [
              0.8888888888888888,
              "#fdca26"
             ],
             [
              1,
              "#f0f921"
             ]
            ],
            "type": "histogram2d"
           }
          ],
          "histogram2dcontour": [
           {
            "colorbar": {
             "outlinewidth": 0,
             "ticks": ""
            },
            "colorscale": [
             [
              0,
              "#0d0887"
             ],
             [
              0.1111111111111111,
              "#46039f"
             ],
             [
              0.2222222222222222,
              "#7201a8"
             ],
             [
              0.3333333333333333,
              "#9c179e"
             ],
             [
              0.4444444444444444,
              "#bd3786"
             ],
             [
              0.5555555555555556,
              "#d8576b"
             ],
             [
              0.6666666666666666,
              "#ed7953"
             ],
             [
              0.7777777777777778,
              "#fb9f3a"
             ],
             [
              0.8888888888888888,
              "#fdca26"
             ],
             [
              1,
              "#f0f921"
             ]
            ],
            "type": "histogram2dcontour"
           }
          ],
          "mesh3d": [
           {
            "colorbar": {
             "outlinewidth": 0,
             "ticks": ""
            },
            "type": "mesh3d"
           }
          ],
          "parcoords": [
           {
            "line": {
             "colorbar": {
              "outlinewidth": 0,
              "ticks": ""
             }
            },
            "type": "parcoords"
           }
          ],
          "pie": [
           {
            "automargin": true,
            "type": "pie"
           }
          ],
          "scatter": [
           {
            "fillpattern": {
             "fillmode": "overlay",
             "size": 10,
             "solidity": 0.2
            },
            "type": "scatter"
           }
          ],
          "scatter3d": [
           {
            "line": {
             "colorbar": {
              "outlinewidth": 0,
              "ticks": ""
             }
            },
            "marker": {
             "colorbar": {
              "outlinewidth": 0,
              "ticks": ""
             }
            },
            "type": "scatter3d"
           }
          ],
          "scattercarpet": [
           {
            "marker": {
             "colorbar": {
              "outlinewidth": 0,
              "ticks": ""
             }
            },
            "type": "scattercarpet"
           }
          ],
          "scattergeo": [
           {
            "marker": {
             "colorbar": {
              "outlinewidth": 0,
              "ticks": ""
             }
            },
            "type": "scattergeo"
           }
          ],
          "scattergl": [
           {
            "marker": {
             "colorbar": {
              "outlinewidth": 0,
              "ticks": ""
             }
            },
            "type": "scattergl"
           }
          ],
          "scattermapbox": [
           {
            "marker": {
             "colorbar": {
              "outlinewidth": 0,
              "ticks": ""
             }
            },
            "type": "scattermapbox"
           }
          ],
          "scatterpolar": [
           {
            "marker": {
             "colorbar": {
              "outlinewidth": 0,
              "ticks": ""
             }
            },
            "type": "scatterpolar"
           }
          ],
          "scatterpolargl": [
           {
            "marker": {
             "colorbar": {
              "outlinewidth": 0,
              "ticks": ""
             }
            },
            "type": "scatterpolargl"
           }
          ],
          "scatterternary": [
           {
            "marker": {
             "colorbar": {
              "outlinewidth": 0,
              "ticks": ""
             }
            },
            "type": "scatterternary"
           }
          ],
          "surface": [
           {
            "colorbar": {
             "outlinewidth": 0,
             "ticks": ""
            },
            "colorscale": [
             [
              0,
              "#0d0887"
             ],
             [
              0.1111111111111111,
              "#46039f"
             ],
             [
              0.2222222222222222,
              "#7201a8"
             ],
             [
              0.3333333333333333,
              "#9c179e"
             ],
             [
              0.4444444444444444,
              "#bd3786"
             ],
             [
              0.5555555555555556,
              "#d8576b"
             ],
             [
              0.6666666666666666,
              "#ed7953"
             ],
             [
              0.7777777777777778,
              "#fb9f3a"
             ],
             [
              0.8888888888888888,
              "#fdca26"
             ],
             [
              1,
              "#f0f921"
             ]
            ],
            "type": "surface"
           }
          ],
          "table": [
           {
            "cells": {
             "fill": {
              "color": "#EBF0F8"
             },
             "line": {
              "color": "white"
             }
            },
            "header": {
             "fill": {
              "color": "#C8D4E3"
             },
             "line": {
              "color": "white"
             }
            },
            "type": "table"
           }
          ]
         },
         "layout": {
          "annotationdefaults": {
           "arrowcolor": "#2a3f5f",
           "arrowhead": 0,
           "arrowwidth": 1
          },
          "autotypenumbers": "strict",
          "coloraxis": {
           "colorbar": {
            "outlinewidth": 0,
            "ticks": ""
           }
          },
          "colorscale": {
           "diverging": [
            [
             0,
             "#8e0152"
            ],
            [
             0.1,
             "#c51b7d"
            ],
            [
             0.2,
             "#de77ae"
            ],
            [
             0.3,
             "#f1b6da"
            ],
            [
             0.4,
             "#fde0ef"
            ],
            [
             0.5,
             "#f7f7f7"
            ],
            [
             0.6,
             "#e6f5d0"
            ],
            [
             0.7,
             "#b8e186"
            ],
            [
             0.8,
             "#7fbc41"
            ],
            [
             0.9,
             "#4d9221"
            ],
            [
             1,
             "#276419"
            ]
           ],
           "sequential": [
            [
             0,
             "#0d0887"
            ],
            [
             0.1111111111111111,
             "#46039f"
            ],
            [
             0.2222222222222222,
             "#7201a8"
            ],
            [
             0.3333333333333333,
             "#9c179e"
            ],
            [
             0.4444444444444444,
             "#bd3786"
            ],
            [
             0.5555555555555556,
             "#d8576b"
            ],
            [
             0.6666666666666666,
             "#ed7953"
            ],
            [
             0.7777777777777778,
             "#fb9f3a"
            ],
            [
             0.8888888888888888,
             "#fdca26"
            ],
            [
             1,
             "#f0f921"
            ]
           ],
           "sequentialminus": [
            [
             0,
             "#0d0887"
            ],
            [
             0.1111111111111111,
             "#46039f"
            ],
            [
             0.2222222222222222,
             "#7201a8"
            ],
            [
             0.3333333333333333,
             "#9c179e"
            ],
            [
             0.4444444444444444,
             "#bd3786"
            ],
            [
             0.5555555555555556,
             "#d8576b"
            ],
            [
             0.6666666666666666,
             "#ed7953"
            ],
            [
             0.7777777777777778,
             "#fb9f3a"
            ],
            [
             0.8888888888888888,
             "#fdca26"
            ],
            [
             1,
             "#f0f921"
            ]
           ]
          },
          "colorway": [
           "#636efa",
           "#EF553B",
           "#00cc96",
           "#ab63fa",
           "#FFA15A",
           "#19d3f3",
           "#FF6692",
           "#B6E880",
           "#FF97FF",
           "#FECB52"
          ],
          "font": {
           "color": "#2a3f5f"
          },
          "geo": {
           "bgcolor": "white",
           "lakecolor": "white",
           "landcolor": "#E5ECF6",
           "showlakes": true,
           "showland": true,
           "subunitcolor": "white"
          },
          "hoverlabel": {
           "align": "left"
          },
          "hovermode": "closest",
          "mapbox": {
           "style": "light"
          },
          "paper_bgcolor": "white",
          "plot_bgcolor": "#E5ECF6",
          "polar": {
           "angularaxis": {
            "gridcolor": "white",
            "linecolor": "white",
            "ticks": ""
           },
           "bgcolor": "#E5ECF6",
           "radialaxis": {
            "gridcolor": "white",
            "linecolor": "white",
            "ticks": ""
           }
          },
          "scene": {
           "xaxis": {
            "backgroundcolor": "#E5ECF6",
            "gridcolor": "white",
            "gridwidth": 2,
            "linecolor": "white",
            "showbackground": true,
            "ticks": "",
            "zerolinecolor": "white"
           },
           "yaxis": {
            "backgroundcolor": "#E5ECF6",
            "gridcolor": "white",
            "gridwidth": 2,
            "linecolor": "white",
            "showbackground": true,
            "ticks": "",
            "zerolinecolor": "white"
           },
           "zaxis": {
            "backgroundcolor": "#E5ECF6",
            "gridcolor": "white",
            "gridwidth": 2,
            "linecolor": "white",
            "showbackground": true,
            "ticks": "",
            "zerolinecolor": "white"
           }
          },
          "shapedefaults": {
           "line": {
            "color": "#2a3f5f"
           }
          },
          "ternary": {
           "aaxis": {
            "gridcolor": "white",
            "linecolor": "white",
            "ticks": ""
           },
           "baxis": {
            "gridcolor": "white",
            "linecolor": "white",
            "ticks": ""
           },
           "bgcolor": "#E5ECF6",
           "caxis": {
            "gridcolor": "white",
            "linecolor": "white",
            "ticks": ""
           }
          },
          "title": {
           "x": 0.05
          },
          "xaxis": {
           "automargin": true,
           "gridcolor": "white",
           "linecolor": "white",
           "ticks": "",
           "title": {
            "standoff": 15
           },
           "zerolinecolor": "white",
           "zerolinewidth": 2
          },
          "yaxis": {
           "automargin": true,
           "gridcolor": "white",
           "linecolor": "white",
           "ticks": "",
           "title": {
            "standoff": 15
           },
           "zerolinecolor": "white",
           "zerolinewidth": 2
          }
         }
        },
        "xaxis": {
         "anchor": "y",
         "categoryarray": [
          "2017.10",
          "2017.11",
          "2017.12",
          "2018.01",
          "2018.03",
          "2018.04",
          "2018.06",
          "2018.07",
          "2018.08",
          "2018.09",
          "2018.10",
          "2018.11",
          "2018.12",
          "2019.01",
          "2019.02",
          "2019.03",
          "2019.04",
          "2019.05",
          "2019.06",
          "2019.07",
          "2019.08",
          "2019.09",
          "2019.10",
          "2019.11",
          "2019.12",
          "2020.01",
          "2020.02",
          "2020.03",
          "2020.04",
          "2020.05",
          "2020.06",
          "2020.07",
          "2020.08",
          "2020.09",
          "2020.10",
          "2020.11",
          "2020.12",
          "2021.01",
          "2021.02",
          "2021.03",
          "2021.04",
          "2021.05",
          "2021.06",
          "2021.07",
          "2021.08",
          "2021.09",
          "2021.10",
          "2021.11",
          "2021.12",
          "2022.01",
          "2022.02",
          "2022.03",
          "2022.04",
          "2022.05",
          "2022.06",
          "2022.07",
          "2022.08",
          "2022.09",
          "2022.10",
          "2022.11",
          "2022.12",
          "2023.01",
          "2023.02",
          "2023.03",
          "2023.04",
          "2023.05",
          "2023.06",
          "2023.07",
          "2023.08",
          "2023.09",
          "2023.10",
          "2023.11",
          "2023.12",
          "2024.01",
          "2024.02",
          "2024.03",
          "2024.04",
          "2024.05",
          "2024.06",
          "2024.08"
         ],
         "categoryorder": "array",
         "domain": [
          0,
          1
         ],
         "title": {
          "text": "MetaiMenuo"
         }
        },
        "yaxis": {
         "anchor": "x",
         "domain": [
          0,
          1
         ],
         "title": {
          "text": "MetaiMenuo_Count"
         }
        }
       }
      }
     },
     "metadata": {},
     "output_type": "display_data"
    },
    {
     "name": "stdout",
     "output_type": "stream",
     "text": [
      "   MetaiMenuo  MetaiMenuo_Count\n",
      "0     2017.10                53\n",
      "1     2017.11                17\n",
      "2     2017.12                70\n",
      "3     2018.01                57\n",
      "4     2018.03                 1\n",
      "..        ...               ...\n",
      "75    2024.03               106\n",
      "76    2024.04                63\n",
      "77    2024.05                 9\n",
      "78    2024.06                14\n",
      "79    2024.08                14\n",
      "\n",
      "[80 rows x 2 columns]\n"
     ]
    }
   ],
   "source": [
    "import plotly.express as px\n",
    "import plotly.graph_objects as go\n",
    "import plotly.express as px\n",
    "\n",
    "mano_zinutes['TimeStamp'] = pd.to_datetime(mano_zinutes['TimeStamp'])\n",
    "mano_zinutes['MetaiMenuo'] = mano_zinutes['TimeStamp'].dt.strftime('%Y.%m')\n",
    "\n",
    "\n",
    "\n",
    "\n",
    "# fig = px.bar(mano_zinutes, x=\"Metai\")\n",
    "\n",
    "# # Show the plot\n",
    "# fig.show()\n",
    "sugrupuoti_metai=mano_zinutes.groupby('MetaiMenuo').size().reset_index(name='MetaiMenuo_Count')\n",
    "# grouped = df.groupby('metai')['eklementas'].apply(list).reset_index()\n",
    "\n",
    "\n",
    "fig = px.bar(sugrupuoti_metai, x=\"MetaiMenuo\", y='MetaiMenuo_Count', color=\"MetaiMenuo\")\n",
    "\n",
    "# Show the plot\n",
    "fig.show()\n",
    "print(sugrupuoti_metai)"
   ]
  },
  {
   "cell_type": "code",
   "execution_count": 19,
   "metadata": {},
   "outputs": [
    {
     "name": "stderr",
     "output_type": "stream",
     "text": [
      "/var/folders/cd/dg0fgs8j0k5d0nrc119x27vh0000gn/T/ipykernel_11269/758889767.py:5: SettingWithCopyWarning:\n",
      "\n",
      "\n",
      "A value is trying to be set on a copy of a slice from a DataFrame.\n",
      "Try using .loc[row_indexer,col_indexer] = value instead\n",
      "\n",
      "See the caveats in the documentation: https://pandas.pydata.org/pandas-docs/stable/user_guide/indexing.html#returning-a-view-versus-a-copy\n",
      "\n",
      "/var/folders/cd/dg0fgs8j0k5d0nrc119x27vh0000gn/T/ipykernel_11269/758889767.py:6: SettingWithCopyWarning:\n",
      "\n",
      "\n",
      "A value is trying to be set on a copy of a slice from a DataFrame.\n",
      "Try using .loc[row_indexer,col_indexer] = value instead\n",
      "\n",
      "See the caveats in the documentation: https://pandas.pydata.org/pandas-docs/stable/user_guide/indexing.html#returning-a-view-versus-a-copy\n",
      "\n"
     ]
    },
    {
     "data": {
      "application/vnd.plotly.v1+json": {
       "config": {
        "plotlyServerURL": "https://plot.ly"
       },
       "data": [
        {
         "alignmentgroup": "True",
         "hovertemplate": "Valandos=%{x}<br>Valandos_Count=%{marker.color}<extra></extra>",
         "legendgroup": "",
         "marker": {
          "color": [
           41,
           80,
           40,
           25,
           131,
           367,
           549,
           735,
           1004,
           1018,
           969,
           1186,
           1234,
           1194,
           1224,
           1463,
           1461,
           1570,
           2028,
           2292,
           1571,
           814,
           313,
           165
          ],
          "coloraxis": "coloraxis",
          "pattern": {
           "shape": ""
          }
         },
         "name": "",
         "offsetgroup": "",
         "orientation": "v",
         "showlegend": false,
         "textposition": "auto",
         "type": "bar",
         "x": [
          0,
          1,
          2,
          3,
          4,
          5,
          6,
          7,
          8,
          9,
          10,
          11,
          12,
          13,
          14,
          15,
          16,
          17,
          18,
          19,
          20,
          21,
          22,
          23
         ],
         "xaxis": "x",
         "y": [
          41,
          80,
          40,
          25,
          131,
          367,
          549,
          735,
          1004,
          1018,
          969,
          1186,
          1234,
          1194,
          1224,
          1463,
          1461,
          1570,
          2028,
          2292,
          1571,
          814,
          313,
          165
         ],
         "yaxis": "y"
        }
       ],
       "layout": {
        "barmode": "relative",
        "coloraxis": {
         "colorbar": {
          "title": {
           "text": "Valandos_Count"
          }
         },
         "colorscale": [
          [
           0,
           "#0d0887"
          ],
          [
           0.1111111111111111,
           "#46039f"
          ],
          [
           0.2222222222222222,
           "#7201a8"
          ],
          [
           0.3333333333333333,
           "#9c179e"
          ],
          [
           0.4444444444444444,
           "#bd3786"
          ],
          [
           0.5555555555555556,
           "#d8576b"
          ],
          [
           0.6666666666666666,
           "#ed7953"
          ],
          [
           0.7777777777777778,
           "#fb9f3a"
          ],
          [
           0.8888888888888888,
           "#fdca26"
          ],
          [
           1,
           "#f0f921"
          ]
         ]
        },
        "legend": {
         "tracegroupgap": 0
        },
        "margin": {
         "t": 60
        },
        "template": {
         "data": {
          "bar": [
           {
            "error_x": {
             "color": "#2a3f5f"
            },
            "error_y": {
             "color": "#2a3f5f"
            },
            "marker": {
             "line": {
              "color": "#E5ECF6",
              "width": 0.5
             },
             "pattern": {
              "fillmode": "overlay",
              "size": 10,
              "solidity": 0.2
             }
            },
            "type": "bar"
           }
          ],
          "barpolar": [
           {
            "marker": {
             "line": {
              "color": "#E5ECF6",
              "width": 0.5
             },
             "pattern": {
              "fillmode": "overlay",
              "size": 10,
              "solidity": 0.2
             }
            },
            "type": "barpolar"
           }
          ],
          "carpet": [
           {
            "aaxis": {
             "endlinecolor": "#2a3f5f",
             "gridcolor": "white",
             "linecolor": "white",
             "minorgridcolor": "white",
             "startlinecolor": "#2a3f5f"
            },
            "baxis": {
             "endlinecolor": "#2a3f5f",
             "gridcolor": "white",
             "linecolor": "white",
             "minorgridcolor": "white",
             "startlinecolor": "#2a3f5f"
            },
            "type": "carpet"
           }
          ],
          "choropleth": [
           {
            "colorbar": {
             "outlinewidth": 0,
             "ticks": ""
            },
            "type": "choropleth"
           }
          ],
          "contour": [
           {
            "colorbar": {
             "outlinewidth": 0,
             "ticks": ""
            },
            "colorscale": [
             [
              0,
              "#0d0887"
             ],
             [
              0.1111111111111111,
              "#46039f"
             ],
             [
              0.2222222222222222,
              "#7201a8"
             ],
             [
              0.3333333333333333,
              "#9c179e"
             ],
             [
              0.4444444444444444,
              "#bd3786"
             ],
             [
              0.5555555555555556,
              "#d8576b"
             ],
             [
              0.6666666666666666,
              "#ed7953"
             ],
             [
              0.7777777777777778,
              "#fb9f3a"
             ],
             [
              0.8888888888888888,
              "#fdca26"
             ],
             [
              1,
              "#f0f921"
             ]
            ],
            "type": "contour"
           }
          ],
          "contourcarpet": [
           {
            "colorbar": {
             "outlinewidth": 0,
             "ticks": ""
            },
            "type": "contourcarpet"
           }
          ],
          "heatmap": [
           {
            "colorbar": {
             "outlinewidth": 0,
             "ticks": ""
            },
            "colorscale": [
             [
              0,
              "#0d0887"
             ],
             [
              0.1111111111111111,
              "#46039f"
             ],
             [
              0.2222222222222222,
              "#7201a8"
             ],
             [
              0.3333333333333333,
              "#9c179e"
             ],
             [
              0.4444444444444444,
              "#bd3786"
             ],
             [
              0.5555555555555556,
              "#d8576b"
             ],
             [
              0.6666666666666666,
              "#ed7953"
             ],
             [
              0.7777777777777778,
              "#fb9f3a"
             ],
             [
              0.8888888888888888,
              "#fdca26"
             ],
             [
              1,
              "#f0f921"
             ]
            ],
            "type": "heatmap"
           }
          ],
          "heatmapgl": [
           {
            "colorbar": {
             "outlinewidth": 0,
             "ticks": ""
            },
            "colorscale": [
             [
              0,
              "#0d0887"
             ],
             [
              0.1111111111111111,
              "#46039f"
             ],
             [
              0.2222222222222222,
              "#7201a8"
             ],
             [
              0.3333333333333333,
              "#9c179e"
             ],
             [
              0.4444444444444444,
              "#bd3786"
             ],
             [
              0.5555555555555556,
              "#d8576b"
             ],
             [
              0.6666666666666666,
              "#ed7953"
             ],
             [
              0.7777777777777778,
              "#fb9f3a"
             ],
             [
              0.8888888888888888,
              "#fdca26"
             ],
             [
              1,
              "#f0f921"
             ]
            ],
            "type": "heatmapgl"
           }
          ],
          "histogram": [
           {
            "marker": {
             "pattern": {
              "fillmode": "overlay",
              "size": 10,
              "solidity": 0.2
             }
            },
            "type": "histogram"
           }
          ],
          "histogram2d": [
           {
            "colorbar": {
             "outlinewidth": 0,
             "ticks": ""
            },
            "colorscale": [
             [
              0,
              "#0d0887"
             ],
             [
              0.1111111111111111,
              "#46039f"
             ],
             [
              0.2222222222222222,
              "#7201a8"
             ],
             [
              0.3333333333333333,
              "#9c179e"
             ],
             [
              0.4444444444444444,
              "#bd3786"
             ],
             [
              0.5555555555555556,
              "#d8576b"
             ],
             [
              0.6666666666666666,
              "#ed7953"
             ],
             [
              0.7777777777777778,
              "#fb9f3a"
             ],
             [
              0.8888888888888888,
              "#fdca26"
             ],
             [
              1,
              "#f0f921"
             ]
            ],
            "type": "histogram2d"
           }
          ],
          "histogram2dcontour": [
           {
            "colorbar": {
             "outlinewidth": 0,
             "ticks": ""
            },
            "colorscale": [
             [
              0,
              "#0d0887"
             ],
             [
              0.1111111111111111,
              "#46039f"
             ],
             [
              0.2222222222222222,
              "#7201a8"
             ],
             [
              0.3333333333333333,
              "#9c179e"
             ],
             [
              0.4444444444444444,
              "#bd3786"
             ],
             [
              0.5555555555555556,
              "#d8576b"
             ],
             [
              0.6666666666666666,
              "#ed7953"
             ],
             [
              0.7777777777777778,
              "#fb9f3a"
             ],
             [
              0.8888888888888888,
              "#fdca26"
             ],
             [
              1,
              "#f0f921"
             ]
            ],
            "type": "histogram2dcontour"
           }
          ],
          "mesh3d": [
           {
            "colorbar": {
             "outlinewidth": 0,
             "ticks": ""
            },
            "type": "mesh3d"
           }
          ],
          "parcoords": [
           {
            "line": {
             "colorbar": {
              "outlinewidth": 0,
              "ticks": ""
             }
            },
            "type": "parcoords"
           }
          ],
          "pie": [
           {
            "automargin": true,
            "type": "pie"
           }
          ],
          "scatter": [
           {
            "fillpattern": {
             "fillmode": "overlay",
             "size": 10,
             "solidity": 0.2
            },
            "type": "scatter"
           }
          ],
          "scatter3d": [
           {
            "line": {
             "colorbar": {
              "outlinewidth": 0,
              "ticks": ""
             }
            },
            "marker": {
             "colorbar": {
              "outlinewidth": 0,
              "ticks": ""
             }
            },
            "type": "scatter3d"
           }
          ],
          "scattercarpet": [
           {
            "marker": {
             "colorbar": {
              "outlinewidth": 0,
              "ticks": ""
             }
            },
            "type": "scattercarpet"
           }
          ],
          "scattergeo": [
           {
            "marker": {
             "colorbar": {
              "outlinewidth": 0,
              "ticks": ""
             }
            },
            "type": "scattergeo"
           }
          ],
          "scattergl": [
           {
            "marker": {
             "colorbar": {
              "outlinewidth": 0,
              "ticks": ""
             }
            },
            "type": "scattergl"
           }
          ],
          "scattermapbox": [
           {
            "marker": {
             "colorbar": {
              "outlinewidth": 0,
              "ticks": ""
             }
            },
            "type": "scattermapbox"
           }
          ],
          "scatterpolar": [
           {
            "marker": {
             "colorbar": {
              "outlinewidth": 0,
              "ticks": ""
             }
            },
            "type": "scatterpolar"
           }
          ],
          "scatterpolargl": [
           {
            "marker": {
             "colorbar": {
              "outlinewidth": 0,
              "ticks": ""
             }
            },
            "type": "scatterpolargl"
           }
          ],
          "scatterternary": [
           {
            "marker": {
             "colorbar": {
              "outlinewidth": 0,
              "ticks": ""
             }
            },
            "type": "scatterternary"
           }
          ],
          "surface": [
           {
            "colorbar": {
             "outlinewidth": 0,
             "ticks": ""
            },
            "colorscale": [
             [
              0,
              "#0d0887"
             ],
             [
              0.1111111111111111,
              "#46039f"
             ],
             [
              0.2222222222222222,
              "#7201a8"
             ],
             [
              0.3333333333333333,
              "#9c179e"
             ],
             [
              0.4444444444444444,
              "#bd3786"
             ],
             [
              0.5555555555555556,
              "#d8576b"
             ],
             [
              0.6666666666666666,
              "#ed7953"
             ],
             [
              0.7777777777777778,
              "#fb9f3a"
             ],
             [
              0.8888888888888888,
              "#fdca26"
             ],
             [
              1,
              "#f0f921"
             ]
            ],
            "type": "surface"
           }
          ],
          "table": [
           {
            "cells": {
             "fill": {
              "color": "#EBF0F8"
             },
             "line": {
              "color": "white"
             }
            },
            "header": {
             "fill": {
              "color": "#C8D4E3"
             },
             "line": {
              "color": "white"
             }
            },
            "type": "table"
           }
          ]
         },
         "layout": {
          "annotationdefaults": {
           "arrowcolor": "#2a3f5f",
           "arrowhead": 0,
           "arrowwidth": 1
          },
          "autotypenumbers": "strict",
          "coloraxis": {
           "colorbar": {
            "outlinewidth": 0,
            "ticks": ""
           }
          },
          "colorscale": {
           "diverging": [
            [
             0,
             "#8e0152"
            ],
            [
             0.1,
             "#c51b7d"
            ],
            [
             0.2,
             "#de77ae"
            ],
            [
             0.3,
             "#f1b6da"
            ],
            [
             0.4,
             "#fde0ef"
            ],
            [
             0.5,
             "#f7f7f7"
            ],
            [
             0.6,
             "#e6f5d0"
            ],
            [
             0.7,
             "#b8e186"
            ],
            [
             0.8,
             "#7fbc41"
            ],
            [
             0.9,
             "#4d9221"
            ],
            [
             1,
             "#276419"
            ]
           ],
           "sequential": [
            [
             0,
             "#0d0887"
            ],
            [
             0.1111111111111111,
             "#46039f"
            ],
            [
             0.2222222222222222,
             "#7201a8"
            ],
            [
             0.3333333333333333,
             "#9c179e"
            ],
            [
             0.4444444444444444,
             "#bd3786"
            ],
            [
             0.5555555555555556,
             "#d8576b"
            ],
            [
             0.6666666666666666,
             "#ed7953"
            ],
            [
             0.7777777777777778,
             "#fb9f3a"
            ],
            [
             0.8888888888888888,
             "#fdca26"
            ],
            [
             1,
             "#f0f921"
            ]
           ],
           "sequentialminus": [
            [
             0,
             "#0d0887"
            ],
            [
             0.1111111111111111,
             "#46039f"
            ],
            [
             0.2222222222222222,
             "#7201a8"
            ],
            [
             0.3333333333333333,
             "#9c179e"
            ],
            [
             0.4444444444444444,
             "#bd3786"
            ],
            [
             0.5555555555555556,
             "#d8576b"
            ],
            [
             0.6666666666666666,
             "#ed7953"
            ],
            [
             0.7777777777777778,
             "#fb9f3a"
            ],
            [
             0.8888888888888888,
             "#fdca26"
            ],
            [
             1,
             "#f0f921"
            ]
           ]
          },
          "colorway": [
           "#636efa",
           "#EF553B",
           "#00cc96",
           "#ab63fa",
           "#FFA15A",
           "#19d3f3",
           "#FF6692",
           "#B6E880",
           "#FF97FF",
           "#FECB52"
          ],
          "font": {
           "color": "#2a3f5f"
          },
          "geo": {
           "bgcolor": "white",
           "lakecolor": "white",
           "landcolor": "#E5ECF6",
           "showlakes": true,
           "showland": true,
           "subunitcolor": "white"
          },
          "hoverlabel": {
           "align": "left"
          },
          "hovermode": "closest",
          "mapbox": {
           "style": "light"
          },
          "paper_bgcolor": "white",
          "plot_bgcolor": "#E5ECF6",
          "polar": {
           "angularaxis": {
            "gridcolor": "white",
            "linecolor": "white",
            "ticks": ""
           },
           "bgcolor": "#E5ECF6",
           "radialaxis": {
            "gridcolor": "white",
            "linecolor": "white",
            "ticks": ""
           }
          },
          "scene": {
           "xaxis": {
            "backgroundcolor": "#E5ECF6",
            "gridcolor": "white",
            "gridwidth": 2,
            "linecolor": "white",
            "showbackground": true,
            "ticks": "",
            "zerolinecolor": "white"
           },
           "yaxis": {
            "backgroundcolor": "#E5ECF6",
            "gridcolor": "white",
            "gridwidth": 2,
            "linecolor": "white",
            "showbackground": true,
            "ticks": "",
            "zerolinecolor": "white"
           },
           "zaxis": {
            "backgroundcolor": "#E5ECF6",
            "gridcolor": "white",
            "gridwidth": 2,
            "linecolor": "white",
            "showbackground": true,
            "ticks": "",
            "zerolinecolor": "white"
           }
          },
          "shapedefaults": {
           "line": {
            "color": "#2a3f5f"
           }
          },
          "ternary": {
           "aaxis": {
            "gridcolor": "white",
            "linecolor": "white",
            "ticks": ""
           },
           "baxis": {
            "gridcolor": "white",
            "linecolor": "white",
            "ticks": ""
           },
           "bgcolor": "#E5ECF6",
           "caxis": {
            "gridcolor": "white",
            "linecolor": "white",
            "ticks": ""
           }
          },
          "title": {
           "x": 0.05
          },
          "xaxis": {
           "automargin": true,
           "gridcolor": "white",
           "linecolor": "white",
           "ticks": "",
           "title": {
            "standoff": 15
           },
           "zerolinecolor": "white",
           "zerolinewidth": 2
          },
          "yaxis": {
           "automargin": true,
           "gridcolor": "white",
           "linecolor": "white",
           "ticks": "",
           "title": {
            "standoff": 15
           },
           "zerolinecolor": "white",
           "zerolinewidth": 2
          }
         }
        },
        "xaxis": {
         "anchor": "y",
         "domain": [
          0,
          1
         ],
         "title": {
          "text": "Valandos"
         }
        },
        "yaxis": {
         "anchor": "x",
         "domain": [
          0,
          1
         ],
         "title": {
          "text": "Valandos_Count"
         }
        }
       }
      }
     },
     "metadata": {},
     "output_type": "display_data"
    },
    {
     "name": "stdout",
     "output_type": "stream",
     "text": [
      "    Valandos  Valandos_Count\n",
      "0          0              41\n",
      "1          1              80\n",
      "2          2              40\n",
      "3          3              25\n",
      "4          4             131\n",
      "5          5             367\n",
      "6          6             549\n",
      "7          7             735\n",
      "8          8            1004\n",
      "9          9            1018\n",
      "10        10             969\n",
      "11        11            1186\n",
      "12        12            1234\n",
      "13        13            1194\n",
      "14        14            1224\n",
      "15        15            1463\n",
      "16        16            1461\n",
      "17        17            1570\n",
      "18        18            2028\n",
      "19        19            2292\n",
      "20        20            1571\n",
      "21        21             814\n",
      "22        22             313\n",
      "23        23             165\n"
     ]
    }
   ],
   "source": [
    "import plotly.express as px\n",
    "import plotly.graph_objects as go\n",
    "import plotly.express as px\n",
    "\n",
    "mano_zinutes['TimeStamp'] = pd.to_datetime(mano_zinutes['TimeStamp'])\n",
    "mano_zinutes['Valandos'] = mano_zinutes['TimeStamp'].dt.hour\n",
    "\n",
    "\n",
    "\n",
    "\n",
    "# fig = px.bar(mano_zinutes, x=\"Metai\")\n",
    "\n",
    "# # Show the plot\n",
    "# fig.show()\n",
    "sugrupuoti_metai=mano_zinutes.groupby('Valandos').size().reset_index(name='Valandos_Count')\n",
    "# grouped = df.groupby('metai')['eklementas'].apply(list).reset_index()\n",
    "\n",
    "\n",
    "fig = px.bar(sugrupuoti_metai, x=\"Valandos\", y='Valandos_Count', color=\"Valandos_Count\")\n",
    "\n",
    "# Show the plot\n",
    "fig.show()\n",
    "print(sugrupuoti_metai)"
   ]
  }
 ],
 "metadata": {
  "kernelspec": {
   "display_name": "Python 3",
   "language": "python",
   "name": "python3"
  },
  "language_info": {
   "codemirror_mode": {
    "name": "ipython",
    "version": 3
   },
   "file_extension": ".py",
   "mimetype": "text/x-python",
   "name": "python",
   "nbconvert_exporter": "python",
   "pygments_lexer": "ipython3",
   "version": "3.13.0"
  }
 },
 "nbformat": 4,
 "nbformat_minor": 2
}
