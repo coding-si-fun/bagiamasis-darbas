{
 "cells": [
  {
   "cell_type": "code",
   "execution_count": 19,
   "metadata": {},
   "outputs": [
    {
     "name": "stdout",
     "output_type": "stream",
     "text": [
      "kas ten per darbas... ok tai tu sakai, kad taika turi būti italas praleido jūsų skambutį. jums skambino italas. jūs skambinote modesta.\n"
     ]
    }
   ],
   "source": [
    "import markovify\n",
    "import string\n",
    "\n",
    "# Load conversation data\n",
    "with open('visos_zinutes.txt') as f:\n",
    "    text = f.read()\n",
    "\n",
    "\n",
    "text_model = markovify.Text(text.lower())\n",
    "\n",
    "\n",
    "pradinis_zodis= input(\"Enter the word you'd like the sentence to start with: \")\n",
    "\n",
    "\n",
    "response = text_model.make_sentence_with_start(pradinis_zodis, strict=False)\n",
    "\n",
    "\n",
    "print(response)\n"
   ]
  }
 ],
 "metadata": {
  "kernelspec": {
   "display_name": "Python 3",
   "language": "python",
   "name": "python3"
  },
  "language_info": {
   "codemirror_mode": {
    "name": "ipython",
    "version": 3
   },
   "file_extension": ".py",
   "mimetype": "text/x-python",
   "name": "python",
   "nbconvert_exporter": "python",
   "pygments_lexer": "ipython3",
   "version": "3.13.0"
  }
 },
 "nbformat": 4,
 "nbformat_minor": 2
}
